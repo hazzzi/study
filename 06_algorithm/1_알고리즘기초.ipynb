{
 "metadata": {
  "language_info": {
   "codemirror_mode": {
    "name": "ipython",
    "version": 3
   },
   "file_extension": ".py",
   "mimetype": "text/x-python",
   "name": "python",
   "nbconvert_exporter": "python",
   "pygments_lexer": "ipython3",
   "version": "3.8.5-final"
  },
  "orig_nbformat": 2,
  "kernelspec": {
   "name": "python3",
   "display_name": "Python 3.8.5 64-bit",
   "metadata": {
    "interpreter": {
     "hash": "31f2aee4e71d21fbe5cf8b01ff0e069b9275f58929596ceb00d14d90e3e16cd6"
    }
   }
  }
 },
 "nbformat": 4,
 "nbformat_minor": 2,
 "cells": [
  {
   "cell_type": "code",
   "execution_count": 1,
   "metadata": {},
   "outputs": [
    {
     "output_type": "stream",
     "name": "stdout",
     "text": [
      "세 정수의 최댓값\n",
      "최댓값 : 55\n"
     ]
    }
   ],
   "source": [
    "# 실습 1-1\n",
    "# 세 정수를 입력받아 최댓값 구하기\n",
    "\n",
    "print('세 정수의 최댓값')\n",
    "a = int(input('a='))\n",
    "b = int(input('b='))\n",
    "c = int(input('c='))\n",
    "\n",
    "maximum = a\n",
    "if b > maximum:\n",
    "    maximum = b\n",
    "if c > maximum:\n",
    "    maximum = c\n",
    "\n",
    "print(f'최댓값 : {maximum}')"
   ]
  },
  {
   "cell_type": "code",
   "execution_count": 1,
   "metadata": {},
   "outputs": [
    {
     "output_type": "stream",
     "name": "stdout",
     "text": [
      "이름: 안녕하세요 gd\n"
     ]
    }
   ],
   "source": [
    "# 실습 1C-1\n",
    "# 이름을 입력받아 인사하기\n",
    "print('이름: ', end='')\n",
    "name = input() # 문자열을 반환함\n",
    "print(f'안녕하세요 {name}')"
   ]
  },
  {
   "cell_type": "code",
   "execution_count": 4,
   "metadata": {},
   "outputs": [
    {
     "output_type": "stream",
     "name": "stdout",
     "text": [
      "max3(1,2,3) = 3\nmax3(2,2,3) = 3\nmax3(3,1,2) = 3\n"
     ]
    }
   ],
   "source": [
    "# 실습 1-2\n",
    "# 세 정수의 최댓값 구하기\n",
    "\n",
    "def max3(a,b,c):\n",
    "    \"\"\"a,b,c의 최댓값을 구하여 반환\"\"\"\n",
    "    maximum=a\n",
    "    if b > maximum: maximum=b\n",
    "    if c > maximum: maximum=c\n",
    "    return maximum\n",
    "\n",
    "print(f'max3(1,2,3) = {max3(1,2,3)}')\n",
    "print(f'max3(2,2,3) = {max3(2,2,3)}')\n",
    "print(f'max3(3,1,2) = {max3(3,1,2)}')"
   ]
  },
  {
   "cell_type": "code",
   "execution_count": 6,
   "metadata": {},
   "outputs": [
    {
     "output_type": "stream",
     "name": "stdout",
     "text": [
      "세 정수의 중앙값\n",
      "중앙값은 2\n"
     ]
    }
   ],
   "source": [
    "# 실습 1C-2\n",
    "# 세 정수를 입력받아 중앙값 구하기 1\n",
    "\n",
    "def med3(a,b,c):\n",
    "    \"\"\"a,b,c의 중앙값을 구하여 반환\"\"\"\n",
    "    if a>=b:\n",
    "        if b>=c:\n",
    "            return b\n",
    "        elif a<=c:\n",
    "            return a\n",
    "        else:\n",
    "            return c\n",
    "    elif a>c:\n",
    "        return a\n",
    "    elif b>c:\n",
    "        return c\n",
    "    else:\n",
    "        return b\n",
    "\n",
    "print('세 정수의 중앙값')\n",
    "a=int(input('정수 a='))\n",
    "b=int(input('정수 b='))\n",
    "c=int(input('정수 c='))\n",
    "\n",
    "print(f'중앙값은 {med3(a,b,c)}')"
   ]
  },
  {
   "cell_type": "code",
   "execution_count": 7,
   "metadata": {},
   "outputs": [
    {
     "output_type": "stream",
     "name": "stdout",
     "text": [
      "세 정수의 중앙값\n",
      "중앙값은 2\n"
     ]
    }
   ],
   "source": [
    "# 실습 1C-2\n",
    "# 세 정수를 입력받아 중앙값 구하기 2\n",
    "\n",
    "def med3(a,b,c):\n",
    "    if (b>=a and c <=a) or (b<=a and c>=a):\n",
    "        return a\n",
    "    elif (a > b and c<b) or (a<b and c>b):\n",
    "        return b\n",
    "    return c\n",
    "\n",
    "print('세 정수의 중앙값')\n",
    "a=int(input('정수 a='))\n",
    "b=int(input('정수 b='))\n",
    "c=int(input('정수 c='))\n",
    "\n",
    "print(f'중앙값은 {med3(a,b,c)}')\n"
   ]
  },
  {
   "cell_type": "code",
   "execution_count": 10,
   "metadata": {},
   "outputs": [
    {
     "output_type": "stream",
     "name": "stdout",
     "text": [
      "음수 입니다\n"
     ]
    }
   ],
   "source": [
    "# 실습 1-3\n",
    "# 입력받은 정수의 부호 출력하기\n",
    "\n",
    "n= int(input('정수 입력 = '))\n",
    "\n",
    "if n > 0:\n",
    "    print('양수 입니다')\n",
    "elif n < 0:\n",
    "    print('음수 입니다')\n",
    "else:\n",
    "    print('0 입니다')"
   ]
  },
  {
   "cell_type": "code",
   "execution_count": 11,
   "metadata": {},
   "outputs": [
    {
     "output_type": "stream",
     "name": "stdout",
     "text": [
      "C\n"
     ]
    }
   ],
   "source": [
    "# 실습 1-4\n",
    "# 3개로 분기하는 조건문\n",
    "\n",
    "n= int(input('정수 입력 = '))\n",
    "\n",
    "if n == 1:\n",
    "    print('A')\n",
    "elif n == 2:\n",
    "    print('B')\n",
    "else:\n",
    "    print('C')"
   ]
  },
  {
   "cell_type": "code",
   "execution_count": 13,
   "metadata": {},
   "outputs": [],
   "source": [
    "# 실습 1-5\n",
    "# 4개로 분기하는 조건문\n",
    "\n",
    "n= int(input('정수 입력 = '))\n",
    "\n",
    "if n == 1:\n",
    "    print('A')\n",
    "elif n == 2:\n",
    "    print('B')\n",
    "elif n == 3:\n",
    "    print('C')"
   ]
  },
  {
   "cell_type": "code",
   "execution_count": 14,
   "metadata": {},
   "outputs": [],
   "source": [
    "# 실습 1-6\n",
    "# 4개로 분기하는 조건문\n",
    "\n",
    "n= int(input('정수 입력 = '))\n",
    "\n",
    "if n == 1:\n",
    "    print('A')\n",
    "elif n == 2:\n",
    "    print('B')\n",
    "elif n == 3:\n",
    "    print('C')\n",
    "else:\n",
    "    pass"
   ]
  },
  {
   "cell_type": "code",
   "execution_count": null,
   "metadata": {},
   "outputs": [],
   "source": []
  }
 ]
}