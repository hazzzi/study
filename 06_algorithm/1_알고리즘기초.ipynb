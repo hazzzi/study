{
 "metadata": {
  "language_info": {
   "codemirror_mode": {
    "name": "ipython",
    "version": 3
   },
   "file_extension": ".py",
   "mimetype": "text/x-python",
   "name": "python",
   "nbconvert_exporter": "python",
   "pygments_lexer": "ipython3",
   "version": "3.8.5-final"
  },
  "orig_nbformat": 2,
  "kernelspec": {
   "name": "python3",
   "display_name": "Python 3.8.5 64-bit",
   "metadata": {
    "interpreter": {
     "hash": "31f2aee4e71d21fbe5cf8b01ff0e069b9275f58929596ceb00d14d90e3e16cd6"
    }
   }
  }
 },
 "nbformat": 4,
 "nbformat_minor": 2,
 "cells": [
  {
   "cell_type": "code",
   "execution_count": 1,
   "metadata": {},
   "outputs": [
    {
     "output_type": "stream",
     "name": "stdout",
     "text": [
      "세 정수의 최댓값\n",
      "최댓값 : 55\n"
     ]
    }
   ],
   "source": [
    "# 실습 1-1\n",
    "# 세 정수를 입력받아 최댓값 구하기\n",
    "\n",
    "print('세 정수의 최댓값')\n",
    "a = int(input('a='))\n",
    "b = int(input('b='))\n",
    "c = int(input('c='))\n",
    "\n",
    "maximum = a\n",
    "if b > maximum:\n",
    "    maximum = b\n",
    "if c > maximum:\n",
    "    maximum = c\n",
    "\n",
    "print(f'최댓값 : {maximum}')"
   ]
  },
  {
   "cell_type": "code",
   "execution_count": 1,
   "metadata": {},
   "outputs": [
    {
     "output_type": "stream",
     "name": "stdout",
     "text": [
      "이름: 안녕하세요 gd\n"
     ]
    }
   ],
   "source": [
    "# 실습 1C-1\n",
    "# 이름을 입력받아 인사하기\n",
    "print('이름: ', end='')\n",
    "name = input() # 문자열을 반환함\n",
    "print(f'안녕하세요 {name}')"
   ]
  },
  {
   "cell_type": "code",
   "execution_count": 4,
   "metadata": {},
   "outputs": [
    {
     "output_type": "stream",
     "name": "stdout",
     "text": [
      "max3(1,2,3) = 3\nmax3(2,2,3) = 3\nmax3(3,1,2) = 3\n"
     ]
    }
   ],
   "source": [
    "# 실습 1-2\n",
    "# 세 정수의 최댓값 구하기\n",
    "\n",
    "def max3(a,b,c):\n",
    "    \"\"\"a,b,c의 최댓값을 구하여 반환\"\"\"\n",
    "    maximum=a\n",
    "    if b > maximum: maximum=b\n",
    "    if c > maximum: maximum=c\n",
    "    return maximum\n",
    "\n",
    "print(f'max3(1,2,3) = {max3(1,2,3)}')\n",
    "print(f'max3(2,2,3) = {max3(2,2,3)}')\n",
    "print(f'max3(3,1,2) = {max3(3,1,2)}')"
   ]
  },
  {
   "cell_type": "code",
   "execution_count": 6,
   "metadata": {},
   "outputs": [
    {
     "output_type": "stream",
     "name": "stdout",
     "text": [
      "세 정수의 중앙값\n",
      "중앙값은 2\n"
     ]
    }
   ],
   "source": [
    "# 실습 1C-2\n",
    "# 세 정수를 입력받아 중앙값 구하기 1\n",
    "\n",
    "def med3(a,b,c):\n",
    "    \"\"\"a,b,c의 중앙값을 구하여 반환\"\"\"\n",
    "    if a>=b:\n",
    "        if b>=c:\n",
    "            return b\n",
    "        elif a<=c:\n",
    "            return a\n",
    "        else:\n",
    "            return c\n",
    "    elif a>c:\n",
    "        return a\n",
    "    elif b>c:\n",
    "        return c\n",
    "    else:\n",
    "        return b\n",
    "\n",
    "print('세 정수의 중앙값')\n",
    "a=int(input('정수 a='))\n",
    "b=int(input('정수 b='))\n",
    "c=int(input('정수 c='))\n",
    "\n",
    "print(f'중앙값은 {med3(a,b,c)}')"
   ]
  },
  {
   "cell_type": "code",
   "execution_count": 7,
   "metadata": {},
   "outputs": [
    {
     "output_type": "stream",
     "name": "stdout",
     "text": [
      "세 정수의 중앙값\n",
      "중앙값은 2\n"
     ]
    }
   ],
   "source": [
    "# 실습 1C-2\n",
    "# 세 정수를 입력받아 중앙값 구하기 2\n",
    "\n",
    "def med3(a,b,c):\n",
    "    if (b>=a and c <=a) or (b<=a and c>=a):\n",
    "        return a\n",
    "    elif (a > b and c<b) or (a<b and c>b):\n",
    "        return b\n",
    "    return c\n",
    "\n",
    "print('세 정수의 중앙값')\n",
    "a=int(input('정수 a='))\n",
    "b=int(input('정수 b='))\n",
    "c=int(input('정수 c='))\n",
    "\n",
    "print(f'중앙값은 {med3(a,b,c)}')\n"
   ]
  },
  {
   "cell_type": "code",
   "execution_count": 10,
   "metadata": {},
   "outputs": [
    {
     "output_type": "stream",
     "name": "stdout",
     "text": [
      "음수 입니다\n"
     ]
    }
   ],
   "source": [
    "# 실습 1-3\n",
    "# 입력받은 정수의 부호 출력하기\n",
    "\n",
    "n= int(input('정수 입력 = '))\n",
    "\n",
    "if n > 0:\n",
    "    print('양수 입니다')\n",
    "elif n < 0:\n",
    "    print('음수 입니다')\n",
    "else:\n",
    "    print('0 입니다')"
   ]
  },
  {
   "cell_type": "code",
   "execution_count": 11,
   "metadata": {},
   "outputs": [
    {
     "output_type": "stream",
     "name": "stdout",
     "text": [
      "C\n"
     ]
    }
   ],
   "source": [
    "# 실습 1-4\n",
    "# 3개로 분기하는 조건문\n",
    "\n",
    "n= int(input('정수 입력 = '))\n",
    "\n",
    "if n == 1:\n",
    "    print('A')\n",
    "elif n == 2:\n",
    "    print('B')\n",
    "else:\n",
    "    print('C')"
   ]
  },
  {
   "cell_type": "code",
   "execution_count": 13,
   "metadata": {},
   "outputs": [],
   "source": [
    "# 실습 1-5\n",
    "# 4개로 분기하는 조건문\n",
    "\n",
    "n= int(input('정수 입력 = '))\n",
    "\n",
    "if n == 1:\n",
    "    print('A')\n",
    "elif n == 2:\n",
    "    print('B')\n",
    "elif n == 3:\n",
    "    print('C')"
   ]
  },
  {
   "cell_type": "code",
   "execution_count": 14,
   "metadata": {},
   "outputs": [],
   "source": [
    "# 실습 1-6\n",
    "# 4개로 분기하는 조건문\n",
    "\n",
    "n= int(input('정수 입력 = '))\n",
    "\n",
    "if n == 1:\n",
    "    print('A')\n",
    "elif n == 2:\n",
    "    print('B')\n",
    "elif n == 3:\n",
    "    print('C')\n",
    "else:\n",
    "    pass"
   ]
  },
  {
   "cell_type": "code",
   "execution_count": 16,
   "metadata": {},
   "outputs": [
    {
     "output_type": "stream",
     "name": "stdout",
     "text": [
      "1부터 n까지 정수의 합을 구합니다\n",
      "1부터 10까지의 합 = 55\n",
      "i의 값은 = 11\n"
     ]
    }
   ],
   "source": [
    "# 실습 1-7\n",
    "# 1부터 n까지 정수의 합 구하기 1 (while 문)\n",
    "\n",
    "print('1부터 n까지 정수의 합을 구합니다')\n",
    "n = int(input('n값을 입력: '))\n",
    "\n",
    "sum = 0\n",
    "i = 1\n",
    "\n",
    "while i <= n:\n",
    "    sum += i\n",
    "    i += 1\n",
    "\n",
    "print(f'1부터 {n}까지의 합 = {sum}')    \n",
    "print(f'i의 값은 = {i}')"
   ]
  },
  {
   "cell_type": "code",
   "execution_count": 17,
   "metadata": {},
   "outputs": [
    {
     "output_type": "stream",
     "name": "stdout",
     "text": [
      "1부터 n까지 정수의 합을 구합니다\n",
      "1부터 10까지의 합 = 55\n",
      "i의 값은 = 10\n"
     ]
    }
   ],
   "source": [
    "# 실습 1-8\n",
    "# 1부터 n까지 정수의 합 구하기 2 (for 문)\n",
    "\n",
    "print('1부터 n까지 정수의 합을 구합니다')\n",
    "n = int(input('n값을 입력: '))\n",
    "\n",
    "sum = 0\n",
    "\n",
    "for i in range(1, n + 1): # range(n), range(a,b), range(a,b,step)\n",
    "    sum += i\n",
    "\n",
    "print(f'1부터 {n}까지의 합 = {sum}')    \n",
    "print(f'i의 값은 = {i}')"
   ]
  },
  {
   "cell_type": "code",
   "execution_count": 19,
   "metadata": {},
   "outputs": [
    {
     "output_type": "stream",
     "name": "stdout",
     "text": [
      "1부터 n까지 정수의 합을 구합니다\n",
      "1부터 10까지의 합 = 55\n",
      "i의 값은 = 10\n"
     ]
    }
   ],
   "source": [
    "# 실습 1-8\n",
    "# 1부터 n까지 정수의 합 구하기 3 (가우스의 덧셈)\n",
    "\n",
    "print('1부터 n까지 정수의 합을 구합니다')\n",
    "n = int(input('n값을 입력: '))\n",
    "\n",
    "sum = n * (n + 1) // 2 # 몫 연산자 = //\n",
    "\n",
    "print(f'1부터 {n}까지의 합 = {sum}')    \n",
    "print(f'i의 값은 = {i}')"
   ]
  },
  {
   "cell_type": "code",
   "execution_count": 21,
   "metadata": {},
   "outputs": [
    {
     "output_type": "stream",
     "name": "stdout",
     "text": [
      "a부터 b까지의 정수의 합을 구합니다.\n",
      "3부터 8까지의 합은 33\n"
     ]
    }
   ],
   "source": [
    "# 실습 1-9\n",
    "# a부터 b까지의 정수의 합 구하기 (for 문)\n",
    "\n",
    "print('a부터 b까지의 정수의 합을 구합니다.')\n",
    "a = int(input('a 값을 입력'))\n",
    "b = int(input('b 값을 입력'))\n",
    "\n",
    "if a > b:\n",
    "    a, b = b, a # a와 b를 오름차순으로 정렬, 단일 대입문\n",
    "\n",
    "sum = 0\n",
    "for i in range(a, b + 1):\n",
    "    sum += i\n",
    "\n",
    "print(f'{a}부터 {b}까지의 합은 {sum}')"
   ]
  },
  {
   "cell_type": "code",
   "execution_count": 28,
   "metadata": {},
   "outputs": [
    {
     "output_type": "stream",
     "name": "stdout",
     "text": [
      "a부터 b까지의 정수의 합을 구합니다.\n",
      "3 + 4 = 7\n"
     ]
    }
   ],
   "source": [
    "# 실습 1-10\n",
    "# a부터 b까지 정수의 합 구하기 1\n",
    "\n",
    "print('a부터 b까지의 정수의 합을 구합니다.')\n",
    "a = int(input('a 값을 입력'))\n",
    "b = int(input('b 값을 입력'))\n",
    "\n",
    "if a > b:\n",
    "    a, b = b, a\n",
    "\n",
    "sum = 0\n",
    "\n",
    "for i in range(a, b + 1):\n",
    "    if i < b:\n",
    "        print(f'{i} + ', end='')\n",
    "    else:\n",
    "        print(f'{i} = ', end='')\n",
    "    sum += i\n",
    "\n",
    "print(sum)\n"
   ]
  },
  {
   "cell_type": "code",
   "execution_count": 33,
   "metadata": {},
   "outputs": [
    {
     "output_type": "stream",
     "name": "stdout",
     "text": [
      "a부터 b까지의 정수의 합을 구합니다.\n",
      "1 + 2 + 3 + 4 + 5 + 6 + 7 + 8 + 9 + 10 = 55\n"
     ]
    }
   ],
   "source": [
    "# 실습 1-11\n",
    "# a부터 b까지 정수의 합 구하기 2\n",
    "\n",
    "print('a부터 b까지의 정수의 합을 구합니다.')\n",
    "a = int(input('a 값을 입력'))\n",
    "b = int(input('b 값을 입력'))\n",
    "\n",
    "if a > b:\n",
    "    a, b = b, a\n",
    "\n",
    "sum = 0\n",
    "for i in range(a, b):\n",
    "    print(f'{i} + ', end='')\n",
    "    sum += i\n",
    "\n",
    "print(f'{b} = ', end='')\n",
    "sum += b\n",
    "\n",
    "print(sum)"
   ]
  },
  {
   "cell_type": "code",
   "execution_count": 34,
   "metadata": {},
   "outputs": [
    {
     "output_type": "stream",
     "name": "stdout",
     "text": [
      "+와 -를 번갈아 출력합니다\n",
      "+-+-+\n"
     ]
    }
   ],
   "source": [
    "# 실습 1-12\n",
    "# +와 -를 번갈아 출력하기 1\n",
    "\n",
    "print('+와 -를 번갈아 출력합니다')\n",
    "n = int(input('몇 개를 출력할까요: '))\n",
    "\n",
    "for i in range(n):\n",
    "    if i % 2:\n",
    "        print('-', end='')\n",
    "    else:\n",
    "        print('+', end='')\n",
    "\n",
    "print()"
   ]
  },
  {
   "cell_type": "code",
   "execution_count": 39,
   "metadata": {},
   "outputs": [
    {
     "output_type": "stream",
     "name": "stdout",
     "text": [
      "+와 -를 번갈아 출력합니다\n",
      "+-\n"
     ]
    }
   ],
   "source": [
    "# 실습 1-13\n",
    "# +와 -를 번갈아 출력하기 2\n",
    "\n",
    "print('+와 -를 번갈아 출력합니다')\n",
    "n = int(input('몇 개를 출력할까요: '))\n",
    "\n",
    "for _ in range(n // 2):\n",
    "    print('+-', end='')\n",
    "\n",
    "if n % 2:\n",
    "    print('+', end='')\n",
    "\n",
    "print()"
   ]
  },
  {
   "cell_type": "code",
   "execution_count": 45,
   "metadata": {},
   "outputs": [
    {
     "output_type": "stream",
     "name": "stdout",
     "text": [
      "*를 출력합니다.\n",
      "*****"
     ]
    }
   ],
   "source": [
    "# 실습 1-14\n",
    "# *를 n개 출력하되 w개마다 줄바꿈하기 1\n",
    "\n",
    "print('*를 출력합니다.')\n",
    "n = int(input('몇 개를 출력할까요?:'))\n",
    "w = int(input('몇 개마다 줄바꿈할까요?:'))\n",
    "\n",
    "for i in range(n):\n",
    "    print('*', end='')\n",
    "    if i % w == w - 1: \n",
    "        print()\n",
    "\n",
    "# if n % w:\n",
    "    # print()"
   ]
  },
  {
   "cell_type": "code",
   "execution_count": 46,
   "metadata": {},
   "outputs": [
    {
     "output_type": "stream",
     "name": "stdout",
     "text": [
      "*를 출력합니다.\n",
      "****\n",
      "****\n",
      "****\n",
      "***\n"
     ]
    }
   ],
   "source": [
    "# 실습 1-15\n",
    "# *를 n개 출력하되 w개마다 줄바꿈하기 2\n",
    "\n",
    "print('*를 출력합니다.')\n",
    "n = int(input('몇 개를 출력할까요?:'))\n",
    "w = int(input('몇 개마다 줄바꿈할까요?:'))\n",
    "\n",
    "for _ in range(n // w):\n",
    "    print('*' * w)\n",
    "\n",
    "rest = n % w\n",
    "if rest:\n",
    "    print('*' * rest)"
   ]
  },
  {
   "cell_type": "code",
   "execution_count": null,
   "metadata": {},
   "outputs": [],
   "source": []
  }
 ]
}