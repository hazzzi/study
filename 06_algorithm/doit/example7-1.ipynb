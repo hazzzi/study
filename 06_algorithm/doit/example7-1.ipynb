{
 "metadata": {
  "language_info": {
   "codemirror_mode": {
    "name": "ipython",
    "version": 3
   },
   "file_extension": ".py",
   "mimetype": "text/x-python",
   "name": "python",
   "nbconvert_exporter": "python",
   "pygments_lexer": "ipython3",
   "version": "3.8.5-final"
  },
  "orig_nbformat": 2,
  "kernelspec": {
   "name": "python3",
   "display_name": "Python 3",
   "language": "python"
  }
 },
 "nbformat": 4,
 "nbformat_minor": 2,
 "cells": [
  {
   "cell_type": "code",
   "execution_count": 3,
   "metadata": {},
   "outputs": [
    {
     "output_type": "stream",
     "name": "stdout",
     "text": [
      "3번째 문자가 일치\n"
     ]
    }
   ],
   "source": [
    "# 실습 7-1\n",
    "# 브루트 포스로 문자열 검색\n",
    "\n",
    "def bf_match(text: str, pattern: str) -> int:\n",
    "    pt = 0  # text를 따라가는 커서\n",
    "    pp = 0  # pattern를 따라가는 커서\n",
    "\n",
    "    while pt != len(text) and pp != len(pattern):\n",
    "        if text[pt] == pattern[pp]:\n",
    "            pt += 1\n",
    "            pp += 1\n",
    "        else:\n",
    "            pt = pt - pp + 1\n",
    "            pp = 0\n",
    "\n",
    "    return pt - pp if pp == len(pattern) else -1\n",
    "\n",
    "if __name__ == '__main__':\n",
    "    text = input('text 입력')\n",
    "    pattern = input('pattern 입력')\n",
    "\n",
    "    index = bf_match(text, pattern)\n",
    "\n",
    "    if index == -1:\n",
    "        print('no pattern')\n",
    "    else:\n",
    "        print(f'{(index + 1)}번째 문자가 일치')"
   ]
  },
  {
   "cell_type": "code",
   "execution_count": null,
   "metadata": {},
   "outputs": [],
   "source": []
  }
 ]
}