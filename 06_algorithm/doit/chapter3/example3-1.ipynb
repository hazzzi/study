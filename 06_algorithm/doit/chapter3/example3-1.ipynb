{
 "metadata": {
  "language_info": {
   "codemirror_mode": {
    "name": "ipython",
    "version": 3
   },
   "file_extension": ".py",
   "mimetype": "text/x-python",
   "name": "python",
   "nbconvert_exporter": "python",
   "pygments_lexer": "ipython3",
   "version": "3.8.5-final"
  },
  "orig_nbformat": 2,
  "kernelspec": {
   "name": "python3",
   "display_name": "Python 3",
   "language": "python"
  }
 },
 "nbformat": 4,
 "nbformat_minor": 2,
 "cells": [
  {
   "cell_type": "code",
   "execution_count": 2,
   "metadata": {},
   "outputs": [
    {
     "output_type": "stream",
     "name": "stdout",
     "text": [
      "검색 값은 a[2] 에 있습니다. \n"
     ]
    }
   ],
   "source": [
    "# 실습 3-1\n",
    "# while 문으로 작성한 선형 검색 알고리즘\n",
    "\n",
    "from typing import Any, Sequence\n",
    "\n",
    "def seq_search(a: Sequence, key: Any) -> int:\n",
    "    \"\"\" 시퀀스 a에서 key와 값이 같은 원소를 선형검색 (while)\"\"\"\n",
    "    i = 0\n",
    "    while i < len(a):\n",
    "        if a[i] == key:\n",
    "            break\n",
    "        i += 1\n",
    "    return i\n",
    "\n",
    "if __name__ == '__main__':\n",
    "    a = [1,2,3,4,5]\n",
    "\n",
    "    n = int(input('찾을 숫자 입력'))\n",
    "    print(f'검색 값은 a[{seq_search(a, n)}] 에 있습니다. ')"
   ]
  },
  {
   "cell_type": "code",
   "execution_count": 3,
   "metadata": {},
   "outputs": [
    {
     "output_type": "stream",
     "name": "stdout",
     "text": [
      "검색값이 존재하지않습니다\n"
     ]
    }
   ],
   "source": [
    "# 실습 3-1\n",
    "# while 문으로 작성한 선형 검색 알고리즘\n",
    "\n",
    "from typing import Any, Sequence\n",
    "\n",
    "def seq_search(a: Sequence, key: Any) -> int:\n",
    "    \"\"\" 시퀀스 a에서 key와 값이 같은 원소를 선형검색 (while)\"\"\"\n",
    "    i = 0\n",
    "    while True:\n",
    "        if i == len(a):\n",
    "            return -1\n",
    "        if a[i] == key:\n",
    "            return 1\n",
    "        i += 1\n",
    "\n",
    "if __name__ == '__main__':\n",
    "    num = int(input('원소 갯수를 입력'))\n",
    "    x = [None] * num\n",
    "\n",
    "    for i in range(num):\n",
    "        x[i] = int(input(f'x[{i}] = '))\n",
    "    \n",
    "    ky = int(input('검색값 입력'))\n",
    "    idx = seq_search(x, ky)\n",
    "\n",
    "    if idx == -1:\n",
    "        print('검색값이 존재하지않습니다')\n",
    "    else:\n",
    "        print(f'검색 값은 x[{idx}] 에 있습니다. ')\n",
    "\n"
   ]
  },
  {
   "cell_type": "code",
   "execution_count": null,
   "metadata": {},
   "outputs": [],
   "source": []
  }
 ]
}