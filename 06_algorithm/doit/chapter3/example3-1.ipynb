{
 "metadata": {
  "language_info": {
   "codemirror_mode": {
    "name": "ipython",
    "version": 3
   },
   "file_extension": ".py",
   "mimetype": "text/x-python",
   "name": "python",
   "nbconvert_exporter": "python",
   "pygments_lexer": "ipython3",
   "version": "3.8.5-final"
  },
  "orig_nbformat": 2,
  "kernelspec": {
   "name": "python3",
   "display_name": "Python 3",
   "language": "python"
  }
 },
 "nbformat": 4,
 "nbformat_minor": 2,
 "cells": [
  {
   "cell_type": "code",
   "execution_count": 2,
   "metadata": {},
   "outputs": [
    {
     "output_type": "stream",
     "name": "stdout",
     "text": [
      "검색 값은 a[2] 에 있습니다. \n"
     ]
    }
   ],
   "source": [
    "# 실습 3-1\n",
    "# while 문으로 작성한 선형 검색 알고리즘\n",
    "\n",
    "from typing import Any, Sequence\n",
    "\n",
    "def seq_search(a: Sequence, key: Any) -> int:\n",
    "    \"\"\" 시퀀스 a에서 key와 값이 같은 원소를 선형검색 (while)\"\"\"\n",
    "    i = 0\n",
    "    while i < len(a):\n",
    "        if a[i] == key:\n",
    "            break\n",
    "        i += 1\n",
    "    return i\n",
    "\n",
    "if __name__ == '__main__':\n",
    "    a = [1,2,3,4,5]\n",
    "\n",
    "    n = int(input('찾을 숫자 입력'))\n",
    "    print(f'검색 값은 a[{seq_search(a, n)}] 에 있습니다. ')"
   ]
  },
  {
   "cell_type": "code",
   "execution_count": 3,
   "metadata": {},
   "outputs": [
    {
     "output_type": "stream",
     "name": "stdout",
     "text": [
      "검색값이 존재하지않습니다\n"
     ]
    }
   ],
   "source": [
    "# 실습 3-1\n",
    "# while 문으로 작성한 선형 검색 알고리즘\n",
    "\n",
    "from typing import Any, Sequence\n",
    "\n",
    "def seq_search(a: Sequence, key: Any) -> int:\n",
    "    \"\"\" 시퀀스 a에서 key와 값이 같은 원소를 선형검색 (while)\"\"\"\n",
    "    i = 0\n",
    "    while True:\n",
    "        if i == len(a):\n",
    "            return -1\n",
    "        if a[i] == key:\n",
    "            return 1\n",
    "        i += 1\n",
    "\n",
    "if __name__ == '__main__':\n",
    "    num = int(input('원소 갯수를 입력'))\n",
    "    x = [None] * num\n",
    "\n",
    "    for i in range(num):\n",
    "        x[i] = int(input(f'x[{i}] = '))\n",
    "    \n",
    "    ky = int(input('검색값 입력'))\n",
    "    idx = seq_search(x, ky)\n",
    "\n",
    "    if idx == -1:\n",
    "        print('검색값이 존재하지않습니다')\n",
    "    else:\n",
    "        print(f'검색 값은 x[{idx}] 에 있습니다. ')\n",
    "\n"
   ]
  },
  {
   "cell_type": "code",
   "execution_count": null,
   "metadata": {},
   "outputs": [],
   "source": [
    "# 실습 3-2\n",
    "# for 문으로 작성한 선형 검색 알고리즘\n",
    "\n",
    "from typing import Any, Sequence\n",
    "\n",
    "def seq_search(a: Sequence, key: Any) -> int:\n",
    "    for i in range(len(a)):\n",
    "        if a[i] == key:\n",
    "            return i\n",
    "    return -1"
   ]
  },
  {
   "cell_type": "code",
   "execution_count": 4,
   "metadata": {},
   "outputs": [
    {
     "output_type": "stream",
     "name": "stdout",
     "text": [
      "실수를 검색합니다. (종료: End 입력)\n",
      "x[1]에 있습니다.\n"
     ]
    }
   ],
   "source": [
    "# 실습 3C-1\n",
    "# seq_search 를 이용하여 실수 검색하기\n",
    "from ssearch_while import seq_search\n",
    "\n",
    "print('실수를 검색합니다. (종료: End 입력)')\n",
    "\n",
    "number = 0\n",
    "x = []\n",
    "\n",
    "while True:\n",
    "    s = input(f'x[{number}]')\n",
    "    if s == 'End':\n",
    "        break\n",
    "    x.append(float(s))\n",
    "    number += 1\n",
    "\n",
    "ky = float(input('검색할 값을 입력'))\n",
    "idx = seq_search(x, ky)\n",
    "\n",
    "if idx == -1:\n",
    "    print('값을 찾지 못했습니다')\n",
    "else:\n",
    "    print(f'x[{idx}]에 있습니다.')"
   ]
  },
  {
   "cell_type": "code",
   "execution_count": 1,
   "metadata": {},
   "outputs": [
    {
     "output_type": "stream",
     "name": "stdout",
     "text": [
      "(4, 7, 5.6, 2, 3.14, 1)에서 5.6의 인덱스는 2 입니다\nstring에서 n의 인덱스는 4 입니다\n['DTS', 'AAC', 'FLAC']에서 DTS의 인덱스는 0 입니다\n"
     ]
    }
   ],
   "source": [
    "# 실습 3C-2\n",
    "# seq_search() 함수를 사용하여 특정 인덱스 검색\n",
    "\n",
    "from ssearch_while import seq_search\n",
    "\n",
    "t = (4,7,5.6,2,3.14,1)\n",
    "s = 'string'\n",
    "a = ['DTS','AAC','FLAC']\n",
    "\n",
    "print(f'{t}에서 5.6의 인덱스는 {seq_search(t,5.6)} 입니다')\n",
    "print(f'{s}에서 n의 인덱스는 {seq_search(s,\"n\")} 입니다')\n",
    "print(f'{a}에서 DTS의 인덱스는 {seq_search(a,\"DTS\")} 입니다')"
   ]
  },
  {
   "cell_type": "code",
   "execution_count": null,
   "metadata": {},
   "outputs": [],
   "source": []
  }
 ]
}