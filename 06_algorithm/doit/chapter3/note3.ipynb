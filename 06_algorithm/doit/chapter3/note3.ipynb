{
 "metadata": {
  "language_info": {
   "codemirror_mode": {
    "name": "ipython",
    "version": 3
   },
   "file_extension": ".py",
   "mimetype": "text/x-python",
   "name": "python",
   "nbconvert_exporter": "python",
   "pygments_lexer": "ipython3",
   "version": 3
  },
  "orig_nbformat": 2
 },
 "nbformat": 4,
 "nbformat_minor": 2,
 "cells": [
  {
   "cell_type": "code",
   "execution_count": null,
   "metadata": {},
   "outputs": [],
   "source": [
    "# 3-2 선형 검색"
   ]
  },
  {
   "cell_type": "code",
   "execution_count": null,
   "metadata": {},
   "outputs": [],
   "source": [
    "\"\"\"\n",
    "선형검색\n",
    "\n",
    "- 원하는 값을 찾을 때까지 맨 앞부터 스캔하여 순서대로 검색하는 알고리즘\n",
    "- 배열 원소 개수가 n일때 판단하는 횟수는 평균 n/2\n",
    "\"\"\""
   ]
  }
 ]
}