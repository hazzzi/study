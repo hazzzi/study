{
 "metadata": {
  "language_info": {
   "codemirror_mode": {
    "name": "ipython",
    "version": 3
   },
   "file_extension": ".py",
   "mimetype": "text/x-python",
   "name": "python",
   "nbconvert_exporter": "python",
   "pygments_lexer": "ipython3",
   "version": "3.8.5-final"
  },
  "orig_nbformat": 2,
  "kernelspec": {
   "name": "python3",
   "display_name": "Python 3"
  }
 },
 "nbformat": 4,
 "nbformat_minor": 2,
 "cells": [
  {
   "cell_type": "code",
   "execution_count": null,
   "metadata": {},
   "outputs": [],
   "source": [
    "# 2장 기본 자료구조와 배열"
   ]
  },
  {
   "cell_type": "code",
   "execution_count": null,
   "metadata": {},
   "outputs": [],
   "source": [
    "# 리스트 기초\n",
    "# 리스트는 mutable list형 객체이다\n",
    "\n",
    "list01 = []\n",
    "list02 = [1,2,3]\n",
    "list03 = ['A', 'B', 'C']\n",
    "list04 = list()\n",
    "list05 = list('ABC')         # ['A', 'B', 'C']\n",
    "list06 = list([1,2,3])       # 리스트로부터 원소 생성\n",
    "list07 = list((1,2,3))       # 튜플로부터 원소 생성\n",
    "list08 = list({1,2,3})       # 집합으로부터 원소 생성\n",
    "list09 = list(range(7))      # [0,1,2,3,4,5,6,7]\n",
    "list10 = list(range(3,8))    # [3,4,5,6,7]\n",
    "list11 = list(range(3,13,2)) # [3,5,7,9,11]\n",
    "list12 = [None] * 5          # [None,None,None,None,None] 원소 5개이면서 원솟값이 없는 리스트\n"
   ]
  },
  {
   "cell_type": "code",
   "execution_count": null,
   "metadata": {},
   "outputs": [],
   "source": [
    "# 튜플의 기초\n",
    "# 순서가 존재, immuatable 자료형\n",
    "\n",
    "tuple01 = ()\n",
    "tuple02 = 1,    # (1,)\n",
    "tuple03 = (1,)\n",
    "tuple04 = 1,2,3\n",
    "tuple05 = 1,2,3,\n",
    "tuple06 = (1,2,3)\n",
    "tuple07 = (1,2,3, )\n",
    "tuple08 = 'A', 'B', 'C'\n",
    "tuple09 = tuple()\n",
    "tuple10 = tuple('ABC')   # ('A','B','C')\n",
    "tuple11 = tuple([1,2,3]) # 리스트로부터 원소를 생성\n",
    "tuple12 = tuple({1,2,3}) # 집학으로부터 원소를 생성\n",
    "tuple13 = tuple(range(7))\n",
    "tuple14 = tuple(range(3,8))\n",
    "tuple15 = tuple(ragne(3,13,2))"
   ]
  },
  {
   "cell_type": "code",
   "execution_count": null,
   "metadata": {},
   "outputs": [],
   "source": [
    "# unpack = 리스트나 튜플의 원솟값들을 풀어 여러변수에 대입하는것\n",
    "\n",
    "x = [1,2,3]\n",
    "a,b,c = x\n",
    "a,b,c"
   ]
  },
  {
   "cell_type": "code",
   "execution_count": 20,
   "metadata": {},
   "outputs": [
    {
     "output_type": "execute_result",
     "data": {
      "text/plain": [
       "[11, 22, 33, 3.14, 55, 66, 77]"
      ]
     },
     "metadata": {},
     "execution_count": 20
    }
   ],
   "source": [
    "# 인덱스로 원소에 접근하기\n",
    "\n",
    "## 인덱스식 사용하기\n",
    "x = [11,22,33,44,55,66,77]\n",
    "x[2]  # >> 33\n",
    "x[-3] # >> 55 # 뒤에서 3번째 원소 출력\n",
    "\n",
    "x[-4] = 3.14 # 뒤에서 4번째 원소에 새로운 값을 대입, 복사가 아니라 객체의 실별변호가 달라짐\n",
    "x"
   ]
  },
  {
   "cell_type": "code",
   "execution_count": 11,
   "metadata": {},
   "outputs": [
    {
     "output_type": "execute_result",
     "data": {
      "text/plain": [
       "[]"
      ]
     },
     "metadata": {},
     "execution_count": 11
    }
   ],
   "source": [
    "# 슬라이스식으로 원소에 접근하기\n",
    "\n",
    "s = [11,22,33,44,55,66,77]\n",
    "s[0:6]  # 0부터 5번째 인덱스 원소 출력\n",
    "s[0:7]  # 0부터 6번째 인덱스 원소 출력\n",
    "\n",
    "s[0:7:2]    # 0부터 6번째 인덱스의 원소 중 2씩 건너뛰며 출력\n",
    "s[-4:-2]    # 인덱스 -4부터 -2까지의 원소 출력 [44,55]\n",
    "s[3:1]      # []\n",
    "\n",
    "s[:]    # 리스트 전체 출력\n",
    "s[:n]   # 맨앞부터 n개 출력\n",
    "s[i:]   # i번째 인덱스값부터 끝까지 출력\n",
    "s[-n:]  # 맨 끝에서부터 n개까지 출력\n",
    "s[::k]  # 맨 앞부터 k개씩 건너뛰며 출력\n",
    "s[::-1] # 리스트 역순으로 출력"
   ]
  },
  {
   "cell_type": "code",
   "execution_count": 21,
   "metadata": {},
   "outputs": [
    {
     "output_type": "execute_result",
     "data": {
      "text/plain": [
       "6"
      ]
     },
     "metadata": {},
     "execution_count": 21
    }
   ],
   "source": [
    "# mutable immutable\n",
    "# mutable   : 리스트, 딕셔너리, 집합\n",
    "# immutable : 수, 문자열, 튜플\n",
    "\n",
    "a, b, c = 1, 2, 3\n",
    "a\n",
    "b\n",
    "c\n",
    "\n",
    "x = 6\n",
    "y = 2\n",
    "x, y = y + 2, x + 3\n",
    "x\n",
    "y\n",
    "\n",
    "x = [15, 64, 3, 2.14, [32, 55], 'ABC']\n",
    "len(x)  # 배열의 원소 갯수\n",
    "min()   # 최솟값\n",
    "max()   # 최댓값\n",
    "if x    # x가 비어있으면 false, 비어있지않으면 true"
   ]
  },
  {
   "cell_type": "code",
   "execution_count": 19,
   "metadata": {},
   "outputs": [
    {
     "output_type": "execute_result",
     "data": {
      "text/plain": [
       "9785248"
      ]
     },
     "metadata": {},
     "execution_count": 19
    }
   ],
   "source": [
    "n = 12  \n",
    "id(n)\n",
    "n += 1 # 정수 객체 12의 값을 변경할수없으니까 다른 정수형을 참조하도록 id 업데이트\n",
    "id(n)"
   ]
  },
  {
   "cell_type": "code",
   "execution_count": null,
   "metadata": {},
   "outputs": [],
   "source": [
    "# NOTE\n",
    "# 두 객체의 값이 값은지 비교: ==\n",
    "# 두 객체의 값과 식별번호가 같은지 비교: is"
   ]
  },
  {
   "cell_type": "code",
   "execution_count": null,
   "metadata": {},
   "outputs": [],
   "source": [
    "## 자료구조의 개념 알아보기\n",
    "\n",
    "### 자료구조: 데이터 단위와 데이터 자체 사이의 물리적 또는 논리적인 관계\n"
   ]
  },
  {
   "cell_type": "code",
   "execution_count": 4,
   "metadata": {},
   "outputs": [
    {
     "output_type": "execute_result",
     "data": {
      "text/plain": [
       "[[1, 2, 3], [4, 5, 6]]"
      ]
     },
     "metadata": {},
     "execution_count": 4
    }
   ],
   "source": [
    "# 리스트 복사\n",
    "\n",
    "## 얕은 복사\n",
    "## >> 얕은 복사일때 원소값을 변경하면 복사된 원소값까지 함께 변경\n",
    "## >> 리스트안의 모든 원소가 참조하는곳까지 복사가 되기때문\n",
    "x = [[1,2,3], [4,5,6]]\n",
    "y = x.copy() # 얕은 복사\n",
    "x[0][1] = 9\n",
    "x # >> [[1, 9, 3], [4, 5, 6]]\n",
    "y # >> [[1, 9, 3], [4, 5, 6]]\n",
    "\n",
    "## 깊은 복사\n",
    "## >> 참조값 뿐만 아니라 참조하는 객체 자체를 복사함\n",
    "## >> 전체복사라고 함\n",
    "import copy\n",
    "x = [[1,2,3], [4,5,6]]\n",
    "y = copy.deepcopy(x) # 깊은 복사\n",
    "x[0][1] = 9\n",
    "x # >> [[1, 9, 3], [4, 5, 6]]\n",
    "y # >> [[1, 2, 3], [4, 5, 6]]\n"
   ]
  },
  {
   "cell_type": "code",
   "execution_count": null,
   "metadata": {},
   "outputs": [],
   "source": []
  }
 ]
}