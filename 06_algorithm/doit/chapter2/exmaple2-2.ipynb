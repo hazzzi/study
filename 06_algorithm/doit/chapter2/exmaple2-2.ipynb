{
 "metadata": {
  "language_info": {
   "codemirror_mode": {
    "name": "ipython",
    "version": 3
   },
   "file_extension": ".py",
   "mimetype": "text/x-python",
   "name": "python",
   "nbconvert_exporter": "python",
   "pygments_lexer": "ipython3",
   "version": "3.8.5-final"
  },
  "orig_nbformat": 2,
  "kernelspec": {
   "name": "python3",
   "display_name": "Python 3"
  }
 },
 "nbformat": 4,
 "nbformat_minor": 2,
 "cells": [
  {
   "cell_type": "code",
   "execution_count": 2,
   "metadata": {},
   "outputs": [
    {
     "output_type": "stream",
     "name": "stdout",
     "text": [
      "최댓값은 240입니다.\n"
     ]
    }
   ],
   "source": [
    "# 실습 2-2\n",
    "# 시퀀스 원소의 최댓값 출력하기\n",
    "# Sequence >> list, bytearry, str, tuple, bytes\n",
    "from typing import Any, Sequence\n",
    "\n",
    "def max_of(a: Sequence) -> Any: # 파라미터 a는 Sequence형, return 값은 Any\n",
    "    \"\"\" 시퀀스형 a 원소의 최댓값을 반환 \"\"\"\n",
    "    maximum = a[0]\n",
    "    for i in range(1, len(a)):\n",
    "        if a[i] > maximum:\n",
    "            maximum = a[i]\n",
    "    return maximum\n",
    "\n",
    "if __name__ == '__main__':\n",
    "    num = int(input('원소의 수를 입력하세요'))\n",
    "    x = [None] * num\n",
    "\n",
    "    for i in range(num):\n",
    "        x[i] = int(input(f'x[{i}]값을 입력하세요:'))\n",
    "    \n",
    "    print(f'최댓값은 {max_of(x)}입니다.')"
   ]
  },
  {
   "cell_type": "code",
   "execution_count": 3,
   "metadata": {},
   "outputs": [
    {
     "output_type": "stream",
     "name": "stdout",
     "text": [
      "배열의 최댓값\n",
      "4 개를 입력했습니다.\n",
      "최댓값은 72\n"
     ]
    }
   ],
   "source": [
    "from max import max_of\n",
    "\n",
    "print('배열의 최댓값')\n",
    "\n",
    "\n",
    "number = 0\n",
    "x = []\n",
    "\n",
    "while True:\n",
    "    s = input(f'x[{number}]값을 입력')\n",
    "    if s == 'End':\n",
    "        break\n",
    "    x.append(int(s))\n",
    "    number += 1\n",
    "\n",
    "print(f'{number} 개를 입력했습니다.')\n",
    "print(f'최댓값은 {max_of(x)}')"
   ]
  },
  {
   "cell_type": "code",
   "execution_count": 4,
   "metadata": {},
   "outputs": [
    {
     "output_type": "stream",
     "name": "stdout",
     "text": [
      "[11, 16, 20, 17, 15]\n최댓값: 20\n"
     ]
    }
   ],
   "source": [
    "# 실습 2-4\n",
    "# 배열 원소의 최댓값을 구해서 출력하기 (원소값을 난수로 생성)\n",
    "\n",
    "import random\n",
    "from max import max_of\n",
    "\n",
    "num = int(input('난수의 개수'))\n",
    "lo = int(input('난수의 최소값'))\n",
    "hi = int(input('난수의 최대값'))\n",
    "x = [None] * num\n",
    "\n",
    "for i in range(num):\n",
    "    x[i] = random.randint(lo, hi)\n",
    "\n",
    "print(f'{(x)}')\n",
    "print(f'최댓값: {max_of(x)}')"
   ]
  },
  {
   "cell_type": "code",
   "execution_count": 5,
   "metadata": {},
   "outputs": [
    {
     "output_type": "stream",
     "name": "stdout",
     "text": [
      "(4, 5, 6, 2, 10) 의 최대값은 10\nstring 의 최대값은 t\n['BAD', 'GOOD', 'SO'] 의 최대값은 SO\n"
     ]
    }
   ],
   "source": [
    "# 실습 2-5\n",
    "# 각 배열 원소의 최대값을 구해서 출력하기 (튜플, 문자열, 문자열 리스트)\n",
    "\n",
    "from max import max_of\n",
    "t = (4, 5, 6, 2, 10)\n",
    "s = 'string'\n",
    "a = ['BAD', 'GOOD', 'SO']\n",
    "\n",
    "print(f'{t} 의 최대값은 {max_of(t)}')\n",
    "print(f'{s} 의 최대값은 {max_of(s)}')\n",
    "print(f'{a} 의 최대값은 {max_of(a)}') # 사전순으로 가장 큰값"
   ]
  },
  {
   "cell_type": "code",
   "execution_count": 6,
   "metadata": {},
   "outputs": [
    {
     "output_type": "stream",
     "name": "stdout",
     "text": [
      "x[0] = John\nx[1] = George\nx[2] = Paul\nx[3] = Ringo\n"
     ]
    }
   ],
   "source": [
    "# 실습 2C-1\n",
    "# 리스트의 모든 원소를 스캔하기\n",
    "\n",
    "x = ['John', 'George', 'Paul', 'Ringo']\n",
    "\n",
    "for i in range(len(x)):\n",
    "    print(f'x[{i}] = {x[i]}')"
   ]
  },
  {
   "cell_type": "code",
   "execution_count": 7,
   "metadata": {},
   "outputs": [
    {
     "output_type": "stream",
     "name": "stdout",
     "text": [
      "x[0] = John\nx[1] = George\nx[2] = Paul\nx[3] = Ringo\n"
     ]
    }
   ],
   "source": [
    "# 실습 2C-2\n",
    "# 리스트의 모든 원소를 enumerate()함수로 스캔\n",
    "\n",
    "x = ['John', 'George', 'Paul', 'Ringo']\n",
    "\n",
    "for i, name in enumerate(x):\n",
    "    print(f'x[{i}] = {name}')"
   ]
  },
  {
   "cell_type": "code",
   "execution_count": 8,
   "metadata": {},
   "outputs": [
    {
     "output_type": "stream",
     "name": "stdout",
     "text": [
      "1번째 = John\n2번째 = George\n3번째 = Paul\n4번째 = Ringo\n"
     ]
    }
   ],
   "source": [
    "# 실습 2C-3\n",
    "# 리스트의 모든 원소를 enumerate()함수로 스캔 1부터 카운트\n",
    "\n",
    "x = ['John', 'George', 'Paul', 'Ringo']\n",
    "\n",
    "for i, name in enumerate(x,1):\n",
    "    print(f'{i}번째 = {name}')"
   ]
  },
  {
   "cell_type": "code",
   "execution_count": 9,
   "metadata": {},
   "outputs": [
    {
     "output_type": "stream",
     "name": "stdout",
     "text": [
      "John\nGeorge\nPaul\nRingo\n"
     ]
    }
   ],
   "source": [
    "# 실습 2C-4\n",
    "# 리스트의 모든 원소를 스캔하기\n",
    "\n",
    "x = ['John', 'George', 'Paul', 'Ringo']\n",
    "\n",
    "for i in x:\n",
    "    print(f'{i}')"
   ]
  },
  {
   "cell_type": "code",
   "execution_count": null,
   "metadata": {},
   "outputs": [],
   "source": [
    "# 실습 2-6\n",
    "# 뮤터블 시퀀스 원소를 역순으로 정렬\n",
    "\n",
    "from typing import Any, MutableSequence\n",
    "\n",
    "\n",
    "def reverse_array(a: MutableSequence) -> None:\n",
    "    \"\"\" 뮤터블 시퀀스를 a의 원소를 역순으로 정렬 \"\"\"\n",
    "    n = len(a)\n",
    "    for i in range(n // 2):\n",
    "        a[i], a[n-i-1] = a[n-i-1], a[i]\n",
    "\n",
    "if __name__ == '__main__':\n",
    "    nx = int(input('원소 수:'))\n",
    "    x = [None] * nx\n",
    "\n",
    "    for i in range(nx):\n",
    "        x[i] = int(input(f'x[{i}]값을 입력하세요'))\n",
    "\n",
    "    reverse_array(x)\n",
    "\n",
    "    for i in range(nx):\n",
    "        print(f'x[{i}] = {x[i]}')\n"
   ]
  },
  {
   "cell_type": "code",
   "execution_count": 11,
   "metadata": {},
   "outputs": [
    {
     "output_type": "execute_result",
     "data": {
      "text/plain": [
       "[5, 4, 3, 2, 1]"
      ]
     },
     "metadata": {},
     "execution_count": 11
    }
   ],
   "source": [
    "x = [1,2,3,4,5]\n",
    "x.reverse()\n",
    "x"
   ]
  },
  {
   "cell_type": "code",
   "execution_count": 13,
   "metadata": {},
   "outputs": [
    {
     "output_type": "stream",
     "name": "stdout",
     "text": [
      "2 진수로는 1111입니다.\n",
      "8 진수로는 10입니다.\n",
      "16 진수로는 5입니다.\n",
      "16 진수로는 9C입니다.\n"
     ]
    }
   ],
   "source": [
    "# 실습 2-7\n",
    "# 10진수 정숫값을 입력받아 2~36진수로 변환하여 출력하기\n",
    "\n",
    "def card_conv(x: int, r: int) -> str:\n",
    "    \"\"\"정숫값 x를 r진수로 변환한뒤 그 수를 나타내는 문자열을 반환\"\"\"\n",
    "    d = ''\n",
    "    dchar = '0123456789ABCDEFGHIJKLMNOPQRSTUVWXYZ'\n",
    "\n",
    "    while x > 0:\n",
    "        d += dchar[x % r]\n",
    "        x //= r\n",
    "    \n",
    "    return d[::-1] # 거꾸로 출력\n",
    "\n",
    "if __name__ == '__main__':\n",
    "    while True:\n",
    "        while True:\n",
    "            no = int(input('변환할 값으로 음이아닌 정수를 입력하세요'))\n",
    "            if no > 0:\n",
    "                break\n",
    "        while True:\n",
    "            cd = int(input('어떤 진수로 입력할까요?'))\n",
    "            if 2<= cd <= 36:\n",
    "                break\n",
    "        \n",
    "        print(f'{cd} 진수로는 {card_conv(no,cd)}입니다.')\n",
    "\n",
    "        retry = input('한번 더 변환할까요?(Y/N)')\n",
    "        if retry in {'N', 'n'}:\n",
    "            break"
   ]
  },
  {
   "cell_type": "code",
   "execution_count": 14,
   "metadata": {},
   "outputs": [
    {
     "output_type": "stream",
     "name": "stdout",
     "text": [
      "합은 55\n"
     ]
    }
   ],
   "source": [
    "# 실습 2C-5\n",
    "# 1부터 n까지 정수의 합 구하기\n",
    "# call by object reference (객체 참조에 의한 전달)\n",
    "# 인수가 immutable 일 때 매개변수를 변경해도 실제 인수에는 영향이 없음\n",
    "\n",
    "def sum_1ton(n):\n",
    "    s = 0\n",
    "    while n > 0:\n",
    "        s += n\n",
    "        n -= 1\n",
    "    return s\n",
    "\n",
    "x = int(input('x 값 입력'))\n",
    "print(f'합은 {sum_1ton(x)}')"
   ]
  },
  {
   "cell_type": "code",
   "execution_count": 16,
   "metadata": {},
   "outputs": [
    {
     "output_type": "stream",
     "name": "stdout",
     "text": [
      "x= [11, 22, 33, 44, 55]\n",
      "x = [11, 22, 88, 44, 55]\n"
     ]
    }
   ],
   "source": [
    "# 실습 2C-6\n",
    "# 리스트에서 임의의 원소값을 업데이트하기\n",
    "# 인수가 mutable일 때는 매개변수를 변경하면 실제 인수도 값이 변경됨\n",
    "def change(lst, idx, val):\n",
    "    \"\"\" lst[idx]의 값을 val로 업데이트\"\"\"\n",
    "    lst[idx] = val\n",
    "\n",
    "x = [11, 22, 33, 44, 55]\n",
    "print('x=', x)\n",
    "\n",
    "index = int(input('업데이트할 인덱스 입력'))\n",
    "value = int(input('새로운 값 입력'))\n",
    "\n",
    "change(x, index, value)\n",
    "print(f'x = {x}')"
   ]
  },
  {
   "cell_type": "code",
   "execution_count": 19,
   "metadata": {
    "tags": []
   },
   "outputs": [
    {
     "output_type": "stream",
     "name": "stdout",
     "text": [
      "2\n3\n5\n7\n11\n13\n17\n19\n23\n29\n31\n37\n41\n43\n47\n53\n59\n61\n67\n71\n73\n79\n83\n89\n97\n101\n103\n107\n109\n113\n127\n131\n137\n139\n149\n151\n157\n163\n167\n173\n179\n181\n191\n193\n197\n199\n211\n223\n227\n229\n233\n239\n241\n251\n257\n263\n269\n271\n277\n281\n283\n293\n307\n311\n313\n317\n331\n337\n347\n349\n353\n359\n367\n373\n379\n383\n389\n397\n401\n409\n419\n421\n431\n433\n439\n443\n449\n457\n461\n463\n467\n479\n487\n491\n499\n503\n509\n521\n523\n541\n547\n557\n563\n569\n571\n577\n587\n593\n599\n601\n607\n613\n617\n619\n631\n641\n643\n647\n653\n659\n661\n673\n677\n683\n691\n701\n709\n719\n727\n733\n739\n743\n751\n757\n761\n769\n773\n787\n797\n809\n811\n821\n823\n827\n829\n839\n853\n857\n859\n863\n877\n881\n883\n887\n907\n911\n919\n929\n937\n941\n947\n953\n967\n971\n977\n983\n991\n997\n나눗셈을 실행한 횟수 78022\n"
     ]
    }
   ],
   "source": [
    "# 실습 2-8\n",
    "# 1000 이하의 소수를 나열하기\n",
    "\n",
    "counter = 0\n",
    "\n",
    "for n in range(2, 1001):\n",
    "    for i in range(2, n):\n",
    "        counter += 1\n",
    "        if n % i == 0:\n",
    "            break\n",
    "    else:\n",
    "        print(n)\n",
    "print('나눗셈을 실행한 횟수', counter)"
   ]
  },
  {
   "cell_type": "code",
   "execution_count": 23,
   "metadata": {},
   "outputs": [
    {
     "output_type": "stream",
     "name": "stdout",
     "text": [
      "2\n3\n5\n7\n11\n13\n17\n19\n23\n29\n31\n37\n41\n43\n47\n53\n59\n61\n67\n71\n73\n79\n83\n89\n97\n101\n103\n107\n109\n113\n127\n131\n137\n139\n149\n151\n157\n163\n167\n173\n179\n181\n191\n193\n197\n199\n211\n223\n227\n229\n233\n239\n241\n251\n257\n263\n269\n271\n277\n281\n283\n293\n307\n311\n313\n317\n331\n337\n347\n349\n353\n359\n367\n373\n379\n383\n389\n397\n401\n409\n419\n421\n431\n433\n439\n443\n449\n457\n461\n463\n467\n479\n487\n491\n499\n503\n509\n521\n523\n541\n547\n557\n563\n569\n571\n577\n587\n593\n599\n601\n607\n613\n617\n619\n631\n641\n643\n647\n653\n659\n661\n673\n677\n683\n691\n701\n709\n719\n727\n733\n739\n743\n751\n757\n761\n769\n773\n787\n797\n809\n811\n821\n823\n827\n829\n839\n853\n857\n859\n863\n877\n881\n883\n887\n907\n911\n919\n929\n937\n941\n947\n953\n967\n971\n977\n983\n991\n997\n나눗셈을 실행한 횟수 14622\n"
     ]
    }
   ],
   "source": [
    "# 실습 2-9\n",
    "# 1000 이하의 소수를 나열하기 (개선))\n",
    "\n",
    "counter = 0\n",
    "ptr = 0\n",
    "prime = [None] * 500\n",
    "\n",
    "prime[ptr] = 2\n",
    "ptr += 1\n",
    "\n",
    "for n in range(3, 1001, 2):\n",
    "    for i in range(1, ptr):\n",
    "        counter += 1\n",
    "        if n % prime[i] == 0:\n",
    "            break\n",
    "    else:\n",
    "        prime[ptr] = n\n",
    "        ptr += 1\n",
    "\n",
    "for i in range(ptr):\n",
    "    print(prime[i])\n",
    "\n",
    "print(f'나눗셈을 실행한 횟수 {counter}')\n"
   ]
  },
  {
   "cell_type": "code",
   "execution_count": 24,
   "metadata": {},
   "outputs": [
    {
     "output_type": "stream",
     "name": "stdout",
     "text": [
      "2\n3\n5\n7\n11\n13\n17\n19\n23\n29\n31\n37\n41\n43\n47\n53\n59\n61\n67\n71\n73\n79\n83\n89\n97\n101\n103\n107\n109\n113\n127\n131\n137\n139\n149\n151\n157\n163\n167\n173\n179\n181\n191\n193\n197\n199\n211\n223\n227\n229\n233\n239\n241\n251\n257\n263\n269\n271\n277\n281\n283\n293\n307\n311\n313\n317\n331\n337\n347\n349\n353\n359\n367\n373\n379\n383\n389\n397\n401\n409\n419\n421\n431\n433\n439\n443\n449\n457\n461\n463\n467\n479\n487\n491\n499\n503\n509\n521\n523\n541\n547\n557\n563\n569\n571\n577\n587\n593\n599\n601\n607\n613\n617\n619\n631\n641\n643\n647\n653\n659\n661\n673\n677\n683\n691\n701\n709\n719\n727\n733\n739\n743\n751\n757\n761\n769\n773\n787\n797\n809\n811\n821\n823\n827\n829\n839\n853\n857\n859\n863\n877\n881\n883\n887\n907\n911\n919\n929\n937\n941\n947\n953\n967\n971\n977\n983\n991\n997\n나눗셈을 실행한 횟수 3774\n"
     ]
    }
   ],
   "source": [
    "# 실습 2-10\n",
    "# 1000 이하의 소수를 나열하기 (개선2)\n",
    "\n",
    "counter = 0\n",
    "ptr = 0\n",
    "prime = [None] * 500\n",
    "\n",
    "prime[ptr] = 2\n",
    "ptr += 1\n",
    "\n",
    "prime[ptr] = 3\n",
    "ptr += 1\n",
    "\n",
    "for n in range(5, 1001, 2):\n",
    "    i = 1\n",
    "    while prime[i] * prime[i] <= n:\n",
    "        counter += 2 # while 조건의 곱셈 1번 + 아래 if 조건의 나머지 연산 1번\n",
    "        if n % prime[i] == 0:\n",
    "            break\n",
    "        i += 1\n",
    "    else:\n",
    "        prime[ptr] = n\n",
    "        ptr += 1\n",
    "        counter += 1 \n",
    "\n",
    "for i in range(ptr):\n",
    "    print(prime[i])\n",
    "\n",
    "print(f'나눗셈을 실행한 횟수 {counter}')\n"
   ]
  },
  {
   "cell_type": "code",
   "execution_count": null,
   "metadata": {},
   "outputs": [],
   "source": []
  }
 ]
}