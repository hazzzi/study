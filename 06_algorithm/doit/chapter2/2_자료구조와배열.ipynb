{
 "metadata": {
  "language_info": {
   "codemirror_mode": {
    "name": "ipython",
    "version": 3
   },
   "file_extension": ".py",
   "mimetype": "text/x-python",
   "name": "python",
   "nbconvert_exporter": "python",
   "pygments_lexer": "ipython3",
   "version": "3.8.5-final"
  },
  "orig_nbformat": 2,
  "kernelspec": {
   "name": "python3",
   "display_name": "Python 3"
  }
 },
 "nbformat": 4,
 "nbformat_minor": 2,
 "cells": [
  {
   "cell_type": "code",
   "execution_count": 1,
   "metadata": {},
   "outputs": [
    {
     "output_type": "stream",
     "name": "stdout",
     "text": [
      "합계 : 318\n평균 : 63.6\n"
     ]
    }
   ],
   "source": [
    "# 실습 2-1\n",
    "# 학생 5명의 시험점수를 입력받아 합계와 평균 출력하기\n",
    "\n",
    "score1 = int(input('1:'))\n",
    "score2 = int(input('2:'))\n",
    "score3 = int(input('3:'))\n",
    "score4 = int(input('4:'))\n",
    "score5 = int(input('5:'))\n",
    "\n",
    "total=0\n",
    "total += score1\n",
    "total += score2\n",
    "total += score3\n",
    "total += score4\n",
    "total += score5\n",
    "\n",
    "print(f'합계 : {total}')\n",
    "print(f'평균 : {total/5}')\n"
   ]
  },
  {
   "cell_type": "code",
   "execution_count": 1,
   "metadata": {},
   "outputs": [],
   "source": [
    "# 리스트 기초\n",
    "# 리스트는 mutable list형 객체이다\n",
    "\n",
    "list01 = []\n",
    "list02 = [1,2,3]\n",
    "list03 = ['A', 'B', 'C']\n",
    "list04 = list()\n",
    "list05 = list('ABC')         # ['A', 'B', 'C']\n",
    "list06 = list([1,2,3])       # 리스트로부터 원소 생성\n",
    "list07 = list((1,2,3))       # 튜플로부터 원소 생성\n",
    "list08 = list({1,2,3})       # 집합으로부터 원소 생성\n",
    "list09 = list(range(7))      # [0,1,2,3,4,5,6,7]\n",
    "list10 = list(range(3,8))    # [3,4,5,6,7]\n",
    "list11 = list(range(3,13,2)) # [3,5,7,9,11]\n",
    "list12 = [None] * 5          # [None,None,None,None,None] 원소 5개이면서 원솟값이 없는 리스트\n"
   ]
  },
  {
   "cell_type": "code",
   "execution_count": null,
   "metadata": {},
   "outputs": [],
   "source": [
    "# 튜플의 기초\n",
    "# 순서가 존재, immuatable 자료형\n",
    "\n",
    "tuple01 = ()\n",
    "tuple02 = 1,    # (1,)\n",
    "tuple03 = (1,)\n",
    "tuple04 = 1,2,3\n",
    "tuple05 = 1,2,3,\n",
    "tuple06 = (1,2,3)\n",
    "tuple07 = (1,2,3, )\n",
    "tuple08 = 'A', 'B', 'C'\n",
    "tuple09 = tuple()\n",
    "tuple10 = tuple('ABC')   # ('A','B','C')\n",
    "tuple11 = tuple([1,2,3]) # 리스트로부터 원소를 생성\n",
    "tuple12 = tuple({1,2,3}) # 집학으로부터 원소를 생성\n",
    "tuple13 = tuple(range(7))\n",
    "tuple14 = tuple(range(3,8))\n",
    "tuple15 = tuple(ragne(3,13,2))"
   ]
  },
  {
   "cell_type": "code",
   "execution_count": 2,
   "metadata": {},
   "outputs": [
    {
     "output_type": "execute_result",
     "data": {
      "text/plain": [
       "(1, 2, 3)"
      ]
     },
     "metadata": {},
     "execution_count": 2
    }
   ],
   "source": [
    "# unpack = 리스트나 튜플의 원솟값들을 풀어 여러변수에 대입하는것\n",
    "x = [1,2,3]\n",
    "a,b,c = x\n",
    "a,b,c"
   ]
  },
  {
   "cell_type": "code",
   "execution_count": null,
   "metadata": {},
   "outputs": [],
   "source": []
  }
 ]
}