{
 "metadata": {
  "language_info": {
   "codemirror_mode": {
    "name": "ipython",
    "version": 3
   },
   "file_extension": ".py",
   "mimetype": "text/x-python",
   "name": "python",
   "nbconvert_exporter": "python",
   "pygments_lexer": "ipython3",
   "version": "3.8.5-final"
  },
  "orig_nbformat": 2,
  "kernelspec": {
   "name": "python3",
   "display_name": "Python 3"
  }
 },
 "nbformat": 4,
 "nbformat_minor": 2,
 "cells": [
  {
   "cell_type": "code",
   "execution_count": 1,
   "metadata": {},
   "outputs": [
    {
     "output_type": "stream",
     "name": "stdout",
     "text": [
      "합계 : 318\n평균 : 63.6\n"
     ]
    }
   ],
   "source": [
    "# 실습 2-1\n",
    "# 학생 5명의 시험점수를 입력받아 합계와 평균 출력하기\n",
    "\n",
    "score1 = int(input('1:'))\n",
    "score2 = int(input('2:'))\n",
    "score3 = int(input('3:'))\n",
    "score4 = int(input('4:'))\n",
    "score5 = int(input('5:'))\n",
    "\n",
    "total=0\n",
    "total += score1\n",
    "total += score2\n",
    "total += score3\n",
    "total += score4\n",
    "total += score5\n",
    "\n",
    "print(f'합계 : {total}')\n",
    "print(f'평균 : {total/5}')\n"
   ]
  },
  {
   "cell_type": "code",
   "execution_count": null,
   "metadata": {},
   "outputs": [],
   "source": []
  }
 ]
}