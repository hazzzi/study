{
 "metadata": {
  "language_info": {
   "codemirror_mode": {
    "name": "ipython",
    "version": 3
   },
   "file_extension": ".py",
   "mimetype": "text/x-python",
   "name": "python",
   "nbconvert_exporter": "python",
   "pygments_lexer": "ipython3",
   "version": "3.8.5-final"
  },
  "orig_nbformat": 2,
  "kernelspec": {
   "name": "python3",
   "display_name": "Python 3.8.5 64-bit",
   "metadata": {
    "interpreter": {
     "hash": "31f2aee4e71d21fbe5cf8b01ff0e069b9275f58929596ceb00d14d90e3e16cd6"
    }
   }
  }
 },
 "nbformat": 4,
 "nbformat_minor": 2,
 "cells": [
  {
   "cell_type": "code",
   "execution_count": 1,
   "metadata": {},
   "outputs": [
    {
     "output_type": "stream",
     "name": "stdout",
     "text": [
      "세 정수의 최댓값\n",
      "최댓값 : 55\n"
     ]
    }
   ],
   "source": [
    "# 실습 1-1\n",
    "# 세 정수를 입력받아 최댓값 구하기\n",
    "\n",
    "print('세 정수의 최댓값')\n",
    "a = int(input('a='))\n",
    "b = int(input('b='))\n",
    "c = int(input('c='))\n",
    "\n",
    "maximum = a\n",
    "if b > maximum:\n",
    "    maximum = b\n",
    "if c > maximum:\n",
    "    maximum = c\n",
    "\n",
    "print(f'최댓값 : {maximum}')"
   ]
  },
  {
   "cell_type": "code",
   "execution_count": 1,
   "metadata": {},
   "outputs": [
    {
     "output_type": "stream",
     "name": "stdout",
     "text": [
      "이름: 안녕하세요 gd\n"
     ]
    }
   ],
   "source": [
    "# 실습 1C-1\n",
    "# 이름을 입력받아 인사하기\n",
    "print('이름: ', end='')\n",
    "name = input() # 문자열을 반환함\n",
    "print(f'안녕하세요 {name}')"
   ]
  },
  {
   "cell_type": "code",
   "execution_count": 4,
   "metadata": {},
   "outputs": [
    {
     "output_type": "stream",
     "name": "stdout",
     "text": [
      "max3(1,2,3) = 3\nmax3(2,2,3) = 3\nmax3(3,1,2) = 3\n"
     ]
    }
   ],
   "source": [
    "# 실습 1-2\n",
    "# 세 정수의 최댓값 구하기\n",
    "\n",
    "def max3(a,b,c):\n",
    "    \"\"\"a,b,c의 최댓값을 구하여 반환\"\"\"\n",
    "    maximum=a\n",
    "    if b > maximum: maximum=b\n",
    "    if c > maximum: maximum=c\n",
    "    return maximum\n",
    "\n",
    "print(f'max3(1,2,3) = {max3(1,2,3)}')\n",
    "print(f'max3(2,2,3) = {max3(2,2,3)}')\n",
    "print(f'max3(3,1,2) = {max3(3,1,2)}')"
   ]
  },
  {
   "cell_type": "code",
   "execution_count": 6,
   "metadata": {},
   "outputs": [
    {
     "output_type": "stream",
     "name": "stdout",
     "text": [
      "세 정수의 중앙값\n",
      "중앙값은 2\n"
     ]
    }
   ],
   "source": [
    "# 실습 1C-2\n",
    "# 세 정수를 입력받아 중앙값 구하기 1\n",
    "\n",
    "def med3(a,b,c):\n",
    "    \"\"\"a,b,c의 중앙값을 구하여 반환\"\"\"\n",
    "    if a>=b:\n",
    "        if b>=c:\n",
    "            return b\n",
    "        elif a<=c:\n",
    "            return a\n",
    "        else:\n",
    "            return c\n",
    "    elif a>c:\n",
    "        return a\n",
    "    elif b>c:\n",
    "        return c\n",
    "    else:\n",
    "        return b\n",
    "\n",
    "print('세 정수의 중앙값')\n",
    "a=int(input('정수 a='))\n",
    "b=int(input('정수 b='))\n",
    "c=int(input('정수 c='))\n",
    "\n",
    "print(f'중앙값은 {med3(a,b,c)}')"
   ]
  },
  {
   "cell_type": "code",
   "execution_count": 7,
   "metadata": {},
   "outputs": [
    {
     "output_type": "stream",
     "name": "stdout",
     "text": [
      "세 정수의 중앙값\n",
      "중앙값은 2\n"
     ]
    }
   ],
   "source": [
    "# 실습 1C-2\n",
    "# 세 정수를 입력받아 중앙값 구하기 2\n",
    "\n",
    "def med3(a,b,c):\n",
    "    if (b>=a and c <=a) or (b<=a and c>=a):\n",
    "        return a\n",
    "    elif (a > b and c<b) or (a<b and c>b):\n",
    "        return b\n",
    "    return c\n",
    "\n",
    "print('세 정수의 중앙값')\n",
    "a=int(input('정수 a='))\n",
    "b=int(input('정수 b='))\n",
    "c=int(input('정수 c='))\n",
    "\n",
    "print(f'중앙값은 {med3(a,b,c)}')\n"
   ]
  },
  {
   "cell_type": "code",
   "execution_count": 10,
   "metadata": {},
   "outputs": [
    {
     "output_type": "stream",
     "name": "stdout",
     "text": [
      "음수 입니다\n"
     ]
    }
   ],
   "source": [
    "# 실습 1-3\n",
    "# 입력받은 정수의 부호 출력하기\n",
    "\n",
    "n= int(input('정수 입력 = '))\n",
    "\n",
    "if n > 0:\n",
    "    print('양수 입니다')\n",
    "elif n < 0:\n",
    "    print('음수 입니다')\n",
    "else:\n",
    "    print('0 입니다')"
   ]
  },
  {
   "cell_type": "code",
   "execution_count": 11,
   "metadata": {},
   "outputs": [
    {
     "output_type": "stream",
     "name": "stdout",
     "text": [
      "C\n"
     ]
    }
   ],
   "source": [
    "# 실습 1-4\n",
    "# 3개로 분기하는 조건문\n",
    "\n",
    "n= int(input('정수 입력 = '))\n",
    "\n",
    "if n == 1:\n",
    "    print('A')\n",
    "elif n == 2:\n",
    "    print('B')\n",
    "else:\n",
    "    print('C')"
   ]
  },
  {
   "cell_type": "code",
   "execution_count": 13,
   "metadata": {},
   "outputs": [],
   "source": [
    "# 실습 1-5\n",
    "# 4개로 분기하는 조건문\n",
    "\n",
    "n= int(input('정수 입력 = '))\n",
    "\n",
    "if n == 1:\n",
    "    print('A')\n",
    "elif n == 2:\n",
    "    print('B')\n",
    "elif n == 3:\n",
    "    print('C')"
   ]
  },
  {
   "cell_type": "code",
   "execution_count": 14,
   "metadata": {},
   "outputs": [],
   "source": [
    "# 실습 1-6\n",
    "# 4개로 분기하는 조건문\n",
    "\n",
    "n= int(input('정수 입력 = '))\n",
    "\n",
    "if n == 1:\n",
    "    print('A')\n",
    "elif n == 2:\n",
    "    print('B')\n",
    "elif n == 3:\n",
    "    print('C')\n",
    "else:\n",
    "    pass"
   ]
  },
  {
   "cell_type": "code",
   "execution_count": 16,
   "metadata": {},
   "outputs": [
    {
     "output_type": "stream",
     "name": "stdout",
     "text": [
      "1부터 n까지 정수의 합을 구합니다\n",
      "1부터 10까지의 합 = 55\n",
      "i의 값은 = 11\n"
     ]
    }
   ],
   "source": [
    "# 실습 1-7\n",
    "# 1부터 n까지 정수의 합 구하기 1 (while 문)\n",
    "\n",
    "print('1부터 n까지 정수의 합을 구합니다')\n",
    "n = int(input('n값을 입력: '))\n",
    "\n",
    "sum = 0\n",
    "i = 1\n",
    "\n",
    "while i <= n:\n",
    "    sum += i\n",
    "    i += 1\n",
    "\n",
    "print(f'1부터 {n}까지의 합 = {sum}')    \n",
    "print(f'i의 값은 = {i}')"
   ]
  },
  {
   "cell_type": "code",
   "execution_count": 17,
   "metadata": {},
   "outputs": [
    {
     "output_type": "stream",
     "name": "stdout",
     "text": [
      "1부터 n까지 정수의 합을 구합니다\n",
      "1부터 10까지의 합 = 55\n",
      "i의 값은 = 10\n"
     ]
    }
   ],
   "source": [
    "# 실습 1-8\n",
    "# 1부터 n까지 정수의 합 구하기 2 (for 문)\n",
    "\n",
    "print('1부터 n까지 정수의 합을 구합니다')\n",
    "n = int(input('n값을 입력: '))\n",
    "\n",
    "sum = 0\n",
    "\n",
    "for i in range(1, n + 1): # range(n), range(a,b), range(a,b,step)\n",
    "    sum += i\n",
    "\n",
    "print(f'1부터 {n}까지의 합 = {sum}')    \n",
    "print(f'i의 값은 = {i}')"
   ]
  },
  {
   "cell_type": "code",
   "execution_count": 19,
   "metadata": {},
   "outputs": [
    {
     "output_type": "stream",
     "name": "stdout",
     "text": [
      "1부터 n까지 정수의 합을 구합니다\n",
      "1부터 10까지의 합 = 55\n",
      "i의 값은 = 10\n"
     ]
    }
   ],
   "source": [
    "# 실습 1-8\n",
    "# 1부터 n까지 정수의 합 구하기 3 (가우스의 덧셈)\n",
    "\n",
    "print('1부터 n까지 정수의 합을 구합니다')\n",
    "n = int(input('n값을 입력: '))\n",
    "\n",
    "sum = n * (n + 1) // 2 # 몫 연산자 = //\n",
    "\n",
    "print(f'1부터 {n}까지의 합 = {sum}')    \n",
    "print(f'i의 값은 = {i}')"
   ]
  },
  {
   "cell_type": "code",
   "execution_count": 21,
   "metadata": {},
   "outputs": [
    {
     "output_type": "stream",
     "name": "stdout",
     "text": [
      "a부터 b까지의 정수의 합을 구합니다.\n",
      "3부터 8까지의 합은 33\n"
     ]
    }
   ],
   "source": [
    "# 실습 1-9\n",
    "# a부터 b까지의 정수의 합 구하기 (for 문)\n",
    "\n",
    "print('a부터 b까지의 정수의 합을 구합니다.')\n",
    "a = int(input('a 값을 입력'))\n",
    "b = int(input('b 값을 입력'))\n",
    "\n",
    "if a > b:\n",
    "    a, b = b, a # a와 b를 오름차순으로 정렬, 단일 대입문\n",
    "\n",
    "sum = 0\n",
    "for i in range(a, b + 1):\n",
    "    sum += i\n",
    "\n",
    "print(f'{a}부터 {b}까지의 합은 {sum}')"
   ]
  },
  {
   "cell_type": "code",
   "execution_count": 28,
   "metadata": {},
   "outputs": [
    {
     "output_type": "stream",
     "name": "stdout",
     "text": [
      "a부터 b까지의 정수의 합을 구합니다.\n",
      "3 + 4 = 7\n"
     ]
    }
   ],
   "source": [
    "# 실습 1-10\n",
    "# a부터 b까지 정수의 합 구하기 1\n",
    "\n",
    "print('a부터 b까지의 정수의 합을 구합니다.')\n",
    "a = int(input('a 값을 입력'))\n",
    "b = int(input('b 값을 입력'))\n",
    "\n",
    "if a > b:\n",
    "    a, b = b, a\n",
    "\n",
    "sum = 0\n",
    "\n",
    "for i in range(a, b + 1):\n",
    "    if i < b:\n",
    "        print(f'{i} + ', end='')\n",
    "    else:\n",
    "        print(f'{i} = ', end='')\n",
    "    sum += i\n",
    "\n",
    "print(sum)\n"
   ]
  },
  {
   "cell_type": "code",
   "execution_count": 33,
   "metadata": {},
   "outputs": [
    {
     "output_type": "stream",
     "name": "stdout",
     "text": [
      "a부터 b까지의 정수의 합을 구합니다.\n",
      "1 + 2 + 3 + 4 + 5 + 6 + 7 + 8 + 9 + 10 = 55\n"
     ]
    }
   ],
   "source": [
    "# 실습 1-11\n",
    "# a부터 b까지 정수의 합 구하기 2\n",
    "\n",
    "print('a부터 b까지의 정수의 합을 구합니다.')\n",
    "a = int(input('a 값을 입력'))\n",
    "b = int(input('b 값을 입력'))\n",
    "\n",
    "if a > b:\n",
    "    a, b = b, a\n",
    "\n",
    "sum = 0\n",
    "for i in range(a, b):\n",
    "    print(f'{i} + ', end='')\n",
    "    sum += i\n",
    "\n",
    "print(f'{b} = ', end='')\n",
    "sum += b\n",
    "\n",
    "print(sum)"
   ]
  },
  {
   "cell_type": "code",
   "execution_count": 34,
   "metadata": {},
   "outputs": [
    {
     "output_type": "stream",
     "name": "stdout",
     "text": [
      "+와 -를 번갈아 출력합니다\n",
      "+-+-+\n"
     ]
    }
   ],
   "source": [
    "# 실습 1-12\n",
    "# +와 -를 번갈아 출력하기 1\n",
    "\n",
    "print('+와 -를 번갈아 출력합니다')\n",
    "n = int(input('몇 개를 출력할까요: '))\n",
    "\n",
    "for i in range(n):\n",
    "    if i % 2:\n",
    "        print('-', end='')\n",
    "    else:\n",
    "        print('+', end='')\n",
    "\n",
    "print()"
   ]
  },
  {
   "cell_type": "code",
   "execution_count": 39,
   "metadata": {},
   "outputs": [
    {
     "output_type": "stream",
     "name": "stdout",
     "text": [
      "+와 -를 번갈아 출력합니다\n",
      "+-\n"
     ]
    }
   ],
   "source": [
    "# 실습 1-13\n",
    "# +와 -를 번갈아 출력하기 2\n",
    "\n",
    "print('+와 -를 번갈아 출력합니다')\n",
    "n = int(input('몇 개를 출력할까요: '))\n",
    "\n",
    "for _ in range(n // 2):\n",
    "    print('+-', end='')\n",
    "\n",
    "if n % 2:\n",
    "    print('+', end='')\n",
    "\n",
    "print()"
   ]
  },
  {
   "cell_type": "code",
   "execution_count": 45,
   "metadata": {},
   "outputs": [
    {
     "output_type": "stream",
     "name": "stdout",
     "text": [
      "*를 출력합니다.\n",
      "*****"
     ]
    }
   ],
   "source": [
    "# 실습 1-14\n",
    "# *를 n개 출력하되 w개마다 줄바꿈하기 1\n",
    "\n",
    "print('*를 출력합니다.')\n",
    "n = int(input('몇 개를 출력할까요?:'))\n",
    "w = int(input('몇 개마다 줄바꿈할까요?:'))\n",
    "\n",
    "for i in range(n):\n",
    "    print('*', end='')\n",
    "    if i % w == w - 1: \n",
    "        print()\n",
    "\n",
    "# if n % w:\n",
    "    # print()"
   ]
  },
  {
   "cell_type": "code",
   "execution_count": 46,
   "metadata": {},
   "outputs": [
    {
     "output_type": "stream",
     "name": "stdout",
     "text": [
      "*를 출력합니다.\n",
      "****\n",
      "****\n",
      "****\n",
      "***\n"
     ]
    }
   ],
   "source": [
    "# 실습 1-15\n",
    "# *를 n개 출력하되 w개마다 줄바꿈하기 2\n",
    "\n",
    "print('*를 출력합니다.')\n",
    "n = int(input('몇 개를 출력할까요?:'))\n",
    "w = int(input('몇 개마다 줄바꿈할까요?:'))\n",
    "\n",
    "for _ in range(n // w):\n",
    "    print('*' * w)\n",
    "\n",
    "rest = n % w\n",
    "if rest:\n",
    "    print('*' * rest)"
   ]
  },
  {
   "cell_type": "code",
   "execution_count": 47,
   "metadata": {},
   "outputs": [
    {
     "output_type": "stream",
     "name": "stdout",
     "text": [
      "1부터 n까지 정수의 합을 구합니다.\n",
      "1 부터 10까지 정수의 합은 55입니다.\n"
     ]
    }
   ],
   "source": [
    "# 실습 1-16\n",
    "# 1부터 n까지 정수의 합 구하기(n값은 양수만 입력받음)\n",
    "\n",
    "print('1부터 n까지 정수의 합을 구합니다.')\n",
    "\n",
    "while True:\n",
    "    n = int(input('n값을 입력하세요'))\n",
    "    if n > 0:\n",
    "        break\n",
    "\n",
    "sum = 0\n",
    "i = 1\n",
    "\n",
    "for i in range(1, n + 1):\n",
    "    sum += i\n",
    "    i += 1\n",
    "\n",
    "print(f'1 부터 {n}까지 정수의 합은 {sum}입니다.')"
   ]
  },
  {
   "cell_type": "code",
   "execution_count": 48,
   "metadata": {},
   "outputs": [
    {
     "output_type": "stream",
     "name": "stdout",
     "text": [
      "1 x 32\n2 x 16\n4 x 8\n"
     ]
    }
   ],
   "source": [
    "# 실습 1-17\n",
    "# 가로, 세로 길이가 정수이고 넓이가 area인 직사각형에서 변의길이 나열하기\n",
    "\n",
    "area = int(input('직사각형의 넓이를 입력하세요'))\n",
    "\n",
    "for i in range(1, area + 1):\n",
    "    if i * i > area: break\n",
    "    if area % i: continue\n",
    "    print(f'{i} x {area // i}')"
   ]
  },
  {
   "cell_type": "code",
   "execution_count": 55,
   "metadata": {},
   "outputs": [
    {
     "output_type": "stream",
     "name": "stdout",
     "text": [
      "86 87 52 50 61 \n 난수 생성을 종료합니다.\n"
     ]
    }
   ],
   "source": [
    "# 실습 1-18\n",
    "# 10~99 사이의 난수 n개 생성하기\n",
    "\n",
    "import random\n",
    "\n",
    "n = int(input('난수의 개수를 입력하세요: '))\n",
    "\n",
    "for _ in range(n):\n",
    "    r = random.randint(10, 99)\n",
    "    print(r, end=' ')\n",
    "    if r == 13:\n",
    "        print('\\n 프로그램을 중단합니다.')\n",
    "        break\n",
    "\n",
    "else:\n",
    "    print('\\n 난수 생성을 종료합니다.')"
   ]
  },
  {
   "cell_type": "code",
   "execution_count": 57,
   "metadata": {},
   "outputs": [
    {
     "output_type": "stream",
     "name": "stdout",
     "text": [
      "1 2 3 4 5 6 7 9 10 11 12 \n"
     ]
    }
   ],
   "source": [
    "# 실습 1-19\n",
    "# 1~12까지 8을 건너뛰고 출력하기 1\n",
    "\n",
    "for i in range(1,13):\n",
    "    if i == 8:\n",
    "        continue\n",
    "    print(i, end=' ')\n",
    "print()"
   ]
  },
  {
   "cell_type": "code",
   "execution_count": 58,
   "metadata": {},
   "outputs": [
    {
     "output_type": "stream",
     "name": "stdout",
     "text": [
      "1 2 3 4 5 6 7 9 10 11 12 \n"
     ]
    }
   ],
   "source": [
    "# 실습 1-20\n",
    "# 1~12까지 8을 건너뛰고 출력하기 1\n",
    "\n",
    "for i in list(range(1,8)) + list(range(9,13)):\n",
    "    print(i, end=' ')\n",
    "print()"
   ]
  },
  {
   "cell_type": "code",
   "execution_count": 60,
   "metadata": {},
   "outputs": [
    {
     "output_type": "stream",
     "name": "stdout",
     "text": [
      "2자리 양수를 입력하세요\n",
      "입력받은 양수는 15입니다.\n"
     ]
    }
   ],
   "source": [
    "# 실습 1C-3\n",
    "# 2자리 양수(10~99) 입력받기\n",
    "\n",
    "print('2자리 양수를 입력하세요')\n",
    "\n",
    "while True:\n",
    "    no = int(input('값을 입력하세요'))\n",
    "    # if no >= 10 and no <= 99:\n",
    "    if 10 <= no <= 99:\n",
    "        break\n",
    "\n",
    "print(f'입력받은 양수는 {no}입니다.')"
   ]
  },
  {
   "cell_type": "code",
   "execution_count": 61,
   "metadata": {},
   "outputs": [
    {
     "output_type": "stream",
     "name": "stdout",
     "text": [
      "---------------------------\n  1  2  3  4  5  6  7  8  9\n  2  4  6  8 10 12 14 16 18\n  3  6  9 12 15 18 21 24 27\n  4  8 12 16 20 24 28 32 36\n  5 10 15 20 25 30 35 40 45\n  6 12 18 24 30 36 42 48 54\n  7 14 21 28 35 42 49 56 63\n  8 16 24 32 40 48 56 64 72\n  9 18 27 36 45 54 63 72 81\n---------------------------\n"
     ]
    }
   ],
   "source": [
    "# 실습 1-21\n",
    "# 구구단 곱셈표 출력하기\n",
    "\n",
    "print('-'*27)\n",
    "for i in range(1, 10):\n",
    "    for j in range(1, 10):\n",
    "        print(f'{i * j:3}', end='') # 3자리로 가지런히 출력하기위해서 :3\n",
    "    print()\n",
    "print('-' * 27)"
   ]
  },
  {
   "cell_type": "code",
   "execution_count": 62,
   "metadata": {},
   "outputs": [
    {
     "output_type": "stream",
     "name": "stdout",
     "text": [
      "*\n**\n***\n****\n*****\n"
     ]
    }
   ],
   "source": [
    "# 실습 1-22\n",
    "# 왼쪽 아래가 직각인 이등변 삼각형으로 * 출력하기\n",
    "\n",
    "n = int(input('짧은 변의 길이를 입력하세요'))\n",
    "\n",
    "for i in range(n):\n",
    "    for j in range(i + 1):\n",
    "        print('*', end='')\n",
    "    print()"
   ]
  },
  {
   "cell_type": "code",
   "execution_count": 63,
   "metadata": {},
   "outputs": [
    {
     "output_type": "stream",
     "name": "stdout",
     "text": [
      "    *\n   **\n  ***\n ****\n*****\n"
     ]
    }
   ],
   "source": [
    "# 실습 1-23\n",
    "# 왼쪽 아래가 직각인 이등변 삼각형으로 * 출력하기\n",
    "\n",
    "n = int(input('짧은 변의 길이를 입력하세요'))\n",
    "\n",
    "for i in range(n):\n",
    "    for _ in range(n - i - 1):\n",
    "        print(' ', end='')\n",
    "    for _ in range(i + 1):\n",
    "        print('*', end='')\n",
    "    print()"
   ]
  },
  {
   "cell_type": "code",
   "execution_count": 64,
   "metadata": {},
   "outputs": [
    {
     "output_type": "stream",
     "name": "stdout",
     "text": [
      "id(1) = 9784864\nid(n) = 9784864\nid(x) = 9784864\n"
     ]
    }
   ],
   "source": [
    "# 실습 1C-4\n",
    "# 함수 내부, 외부에서 정의한 변수와 객체의 식별 번호를 출력하기\n",
    "\n",
    "n = 1\n",
    "def put_id():\n",
    "    x = 1\n",
    "    print(f'id(x) = {id(x)}')\n",
    "\n",
    "print(f'id(1) = {id(1)}')\n",
    "print(f'id(n) = {id(n)}')\n",
    "put_id()"
   ]
  },
  {
   "cell_type": "code",
   "execution_count": 65,
   "metadata": {},
   "outputs": [
    {
     "output_type": "stream",
     "name": "stdout",
     "text": [
      "i =   1  id(i) = 9784864\ni =   2  id(i) = 9784896\ni =   3  id(i) = 9784928\ni =   4  id(i) = 9784960\ni =   5  id(i) = 9784992\ni =   6  id(i) = 9785024\ni =   7  id(i) = 9785056\ni =   8  id(i) = 9785088\ni =   9  id(i) = 9785120\ni =  10  id(i) = 9785152\ni =  11  id(i) = 9785184\ni =  12  id(i) = 9785216\ni =  13  id(i) = 9785248\ni =  14  id(i) = 9785280\ni =  15  id(i) = 9785312\ni =  16  id(i) = 9785344\ni =  17  id(i) = 9785376\ni =  18  id(i) = 9785408\ni =  19  id(i) = 9785440\ni =  20  id(i) = 9785472\ni =  21  id(i) = 9785504\ni =  22  id(i) = 9785536\ni =  23  id(i) = 9785568\ni =  24  id(i) = 9785600\ni =  25  id(i) = 9785632\ni =  26  id(i) = 9785664\ni =  27  id(i) = 9785696\ni =  28  id(i) = 9785728\ni =  29  id(i) = 9785760\ni =  30  id(i) = 9785792\ni =  31  id(i) = 9785824\ni =  32  id(i) = 9785856\ni =  33  id(i) = 9785888\ni =  34  id(i) = 9785920\ni =  35  id(i) = 9785952\ni =  36  id(i) = 9785984\ni =  37  id(i) = 9786016\ni =  38  id(i) = 9786048\ni =  39  id(i) = 9786080\ni =  40  id(i) = 9786112\ni =  41  id(i) = 9786144\ni =  42  id(i) = 9786176\ni =  43  id(i) = 9786208\ni =  44  id(i) = 9786240\ni =  45  id(i) = 9786272\ni =  46  id(i) = 9786304\ni =  47  id(i) = 9786336\ni =  48  id(i) = 9786368\ni =  49  id(i) = 9786400\ni =  50  id(i) = 9786432\ni =  51  id(i) = 9786464\ni =  52  id(i) = 9786496\ni =  53  id(i) = 9786528\ni =  54  id(i) = 9786560\ni =  55  id(i) = 9786592\ni =  56  id(i) = 9786624\ni =  57  id(i) = 9786656\ni =  58  id(i) = 9786688\ni =  59  id(i) = 9786720\ni =  60  id(i) = 9786752\ni =  61  id(i) = 9786784\ni =  62  id(i) = 9786816\ni =  63  id(i) = 9786848\ni =  64  id(i) = 9786880\ni =  65  id(i) = 9786912\ni =  66  id(i) = 9786944\ni =  67  id(i) = 9786976\ni =  68  id(i) = 9787008\ni =  69  id(i) = 9787040\ni =  70  id(i) = 9787072\ni =  71  id(i) = 9787104\ni =  72  id(i) = 9787136\ni =  73  id(i) = 9787168\ni =  74  id(i) = 9787200\ni =  75  id(i) = 9787232\ni =  76  id(i) = 9787264\ni =  77  id(i) = 9787296\ni =  78  id(i) = 9787328\ni =  79  id(i) = 9787360\ni =  80  id(i) = 9787392\ni =  81  id(i) = 9787424\ni =  82  id(i) = 9787456\ni =  83  id(i) = 9787488\ni =  84  id(i) = 9787520\ni =  85  id(i) = 9787552\ni =  86  id(i) = 9787584\ni =  87  id(i) = 9787616\ni =  88  id(i) = 9787648\ni =  89  id(i) = 9787680\ni =  90  id(i) = 9787712\ni =  91  id(i) = 9787744\ni =  92  id(i) = 9787776\ni =  93  id(i) = 9787808\ni =  94  id(i) = 9787840\ni =  95  id(i) = 9787872\ni =  96  id(i) = 9787904\ni =  97  id(i) = 9787936\ni =  98  id(i) = 9787968\ni =  99  id(i) = 9788000\ni = 100  id(i) = 9788032\n"
     ]
    }
   ],
   "source": [
    "# 실습 1C-5\n",
    "# 1부터 100까지 반복하여 출력하기\n",
    "\n",
    "for i in range(1,101):\n",
    "    print(f'i = {i:3}  id(i) = {id(i)}')"
   ]
  },
  {
   "cell_type": "code",
   "execution_count": null,
   "metadata": {},
   "outputs": [],
   "source": []
  }
 ]
}