{
 "metadata": {
  "language_info": {
   "codemirror_mode": {
    "name": "ipython",
    "version": 3
   },
   "file_extension": ".py",
   "mimetype": "text/x-python",
   "name": "python",
   "nbconvert_exporter": "python",
   "pygments_lexer": "ipython3",
   "version": 3
  },
  "orig_nbformat": 2
 },
 "nbformat": 4,
 "nbformat_minor": 2,
 "cells": [
  {
   "cell_type": "code",
   "execution_count": null,
   "metadata": {},
   "outputs": [],
   "source": [
    "# 실습 8-1\n",
    "# 포인터로 연결리스트 구현\n",
    "\n",
    "from __future__ import annotations\n",
    "from typing import Any, Type\n",
    "\n",
    "class Node:\n",
    "    def __init__(self, data: Any = None, next: Node = Node):\n",
    "        self.data = data    # 데이터\n",
    "        self.next = next    # 뒤쪽 포인터\n",
    "\n",
    "class LinkedList:\n",
    "    def __init__(self) -> None:\n",
    "        self.no = 0         # 노드의 갯수\n",
    "        self.head = None    # 머리 노드\n",
    "        self.current = None # 주목 노드\n",
    "    \n",
    "    def __len__(self) -> int:\n",
    "        return self.no  # 노드 갯수 반환\n",
    "    \n",
    "    def search(self, data: Any) -> int:\n",
    "        count = 0\n",
    "        pointer = self.head\n",
    "        while pointer is not None:\n",
    "            if pointer.data == data:\n",
    "                self.current = pointer\n",
    "                return count\n",
    "            count += 1\n",
    "            pointer = pointer.next\n",
    "        return -1\n",
    "\n",
    "    def __contains__(self, data: Any) -> bool:\n",
    "        return self.search(data) >= 0"
   ]
  }
 ]
}