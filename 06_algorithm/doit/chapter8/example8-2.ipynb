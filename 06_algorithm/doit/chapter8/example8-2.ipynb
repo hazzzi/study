{
 "metadata": {
  "language_info": {
   "codemirror_mode": {
    "name": "ipython",
    "version": 3
   },
   "file_extension": ".py",
   "mimetype": "text/x-python",
   "name": "python",
   "nbconvert_exporter": "python",
   "pygments_lexer": "ipython3",
   "version": 3
  },
  "orig_nbformat": 2
 },
 "nbformat": 4,
 "nbformat_minor": 2,
 "cells": [
  {
   "cell_type": "code",
   "execution_count": null,
   "metadata": {},
   "outputs": [],
   "source": [
    "# 실습 8-1\n",
    "# 포인터로 연결리스트 구현\n",
    "\n",
    "from __future__ import annotations\n",
    "from typing import Any, Type\n",
    "\n",
    "class Node:\n",
    "    def __init__(self, data: Any = None, next: Node = Node):\n",
    "        self.data = data    # 데이터\n",
    "        self.next = next    # 뒤쪽 포인터"
   ]
  }
 ]
}