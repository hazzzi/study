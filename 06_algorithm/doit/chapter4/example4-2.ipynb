{
 "metadata": {
  "language_info": {
   "codemirror_mode": {
    "name": "ipython",
    "version": 3
   },
   "file_extension": ".py",
   "mimetype": "text/x-python",
   "name": "python",
   "nbconvert_exporter": "python",
   "pygments_lexer": "ipython3",
   "version": 3
  },
  "orig_nbformat": 2
 },
 "nbformat": 4,
 "nbformat_minor": 2,
 "cells": [
  {
   "cell_type": "code",
   "execution_count": null,
   "metadata": {},
   "outputs": [],
   "source": [
    "# 실습 4-3\n",
    "# 고정길이 큐 클래스 구현\n",
    "\n",
    "from typing import Any\n",
    "\n",
    "class FixedQueue:\n",
    "    class Empty(Exception):\n",
    "        \"\"\"큐가 비어있을 때\"\"\"\n",
    "        pass\n",
    "    class Full(Exception):\n",
    "        \"\"\"큐가 가득차있을 때\"\"\"\n",
    "        pass\n",
    "\n",
    "    def __init__(self, capacity: int) -> None:\n",
    "        self.no = 0                     # 현재 데이터 갯수\n",
    "        self.front = 0                  # 맨 앞 원소의 커서\n",
    "        self.rear = 0                   # 맨 끝 원소의 커서\n",
    "        self.capacity = capacity        # 큐의 크기\n",
    "        self.que = [None] * capacity    # 큐\n",
    "\n",
    "    def __len__(self) -> int:\n",
    "        \"\"\"큐에있는 모든 데이터의 갯수\"\"\"\n",
    "        return self.no\n",
    "\n",
    "    def is_empty(self) -> bool:\n",
    "        \"\"\" 큐가 비어있는지 여부 \"\"\"\n",
    "        return self.no <= 0\n",
    "    \n",
    "    def is_full(self) -> bool:\n",
    "        \"\"\" 큐가 가득 차있는지 여부\"\"\"\n",
    "        return self.no >= self.capacity"
   ]
  }
 ]
}