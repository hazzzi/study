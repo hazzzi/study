{
 "metadata": {
  "language_info": {
   "codemirror_mode": {
    "name": "ipython",
    "version": 3
   },
   "file_extension": ".py",
   "mimetype": "text/x-python",
   "name": "python",
   "nbconvert_exporter": "python",
   "pygments_lexer": "ipython3",
   "version": "3.8.5-final"
  },
  "orig_nbformat": 2,
  "kernelspec": {
   "name": "python3",
   "display_name": "Python 3",
   "language": "python"
  }
 },
 "nbformat": 4,
 "nbformat_minor": 2,
 "cells": [
  {
   "cell_type": "code",
   "execution_count": 1,
   "metadata": {},
   "outputs": [
    {
     "output_type": "stream",
     "name": "stdout",
     "text": [
      "1번째 문자가 일치\n"
     ]
    }
   ],
   "source": [
    "# 실습 7-2\n",
    "# KMP \n",
    "\n",
    "def kmp_match(txt: str, pat: str) -> int:\n",
    "    pt = 1                      # text를 따라가는 커서\n",
    "    pp = 0                      # pat을 따라가는 커서\n",
    "    skip = [0] * (len(pat) + 1) # 건너뛰기 표\n",
    "\n",
    "    # 건너뛰기 표\n",
    "    skip[pt] = 0\n",
    "    while pt != len(pat):\n",
    "        if pat[pt] == pat[pp]:\n",
    "            pt += 1\n",
    "            pp += 1\n",
    "            skip[pt] = pp\n",
    "        elif pp == 0:\n",
    "            pt += 1\n",
    "            skip[pt] = pp\n",
    "        else:\n",
    "            pp = skip[pp]\n",
    "\n",
    "    # 문자열 검색하기\n",
    "    pt = pp = 0\n",
    "    while pt != len(txt) and pp != len(pat):\n",
    "        if txt[pt] == pat[pp]:\n",
    "            pt += 1\n",
    "            pp += 1\n",
    "        elif pp == 0:\n",
    "            pt += 1\n",
    "        else:\n",
    "            pp = skip[pp]\n",
    "\n",
    "    return  pt - pp if pp == len(pat) else -1\n",
    "\n",
    "if __name__ == '__main__':\n",
    "    s1 = input('text:')\n",
    "    s2 = input('pattern:')\n",
    "\n",
    "    idx = kmp_match(s1, s2)\n",
    "\n",
    "    if idx == -1:\n",
    "        print('no pattern')\n",
    "    else:\n",
    "        print(f'{(idx + 1)}번째 문자가 일치')"
   ]
  },
  {
   "cell_type": "code",
   "execution_count": null,
   "metadata": {},
   "outputs": [],
   "source": []
  }
 ]
}