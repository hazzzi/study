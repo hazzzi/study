{
 "metadata": {
  "language_info": {
   "codemirror_mode": {
    "name": "ipython",
    "version": 3
   },
   "file_extension": ".py",
   "mimetype": "text/x-python",
   "name": "python",
   "nbconvert_exporter": "python",
   "pygments_lexer": "ipython3",
   "version": "3.8.5-final"
  },
  "orig_nbformat": 2,
  "kernelspec": {
   "name": "python3",
   "display_name": "Python 3",
   "language": "python"
  }
 },
 "nbformat": 4,
 "nbformat_minor": 2,
 "cells": [
  {
   "cell_type": "code",
   "execution_count": 3,
   "metadata": {},
   "outputs": [
    {
     "output_type": "stream",
     "name": "stdout",
     "text": [
      "3번째 문자가 일치\n"
     ]
    }
   ],
   "source": [
    "# 실습 7-1\n",
    "# 브루트 포스로 문자열 검색\n",
    "\n",
    "def bf_match(text: str, pattern: str) -> int:\n",
    "    pt = 0  # text를 따라가는 커서\n",
    "    pp = 0  # pattern를 따라가는 커서\n",
    "\n",
    "    while pt != len(text) and pp != len(pattern):\n",
    "        if text[pt] == pattern[pp]:\n",
    "            pt += 1\n",
    "            pp += 1\n",
    "        else:\n",
    "            pt = pt - pp + 1\n",
    "            pp = 0\n",
    "\n",
    "    return pt - pp if pp == len(pattern) else -1\n",
    "\n",
    "if __name__ == '__main__':\n",
    "    text = input('text 입력')\n",
    "    pattern = input('pattern 입력')\n",
    "\n",
    "    index = bf_match(text, pattern)\n",
    "\n",
    "    if index == -1:\n",
    "        print('no pattern')\n",
    "    else:\n",
    "        print(f'{(index + 1)}번째 문자가 일치')"
   ]
  },
  {
   "cell_type": "code",
   "execution_count": null,
   "metadata": {},
   "outputs": [],
   "source": [
    "# 보충 7-1\n",
    "\n",
    "# 멤버십 연산자\n",
    "pattern in text\n",
    "pattern not in text\n",
    "\n",
    "# find, index 함수\n",
    "str.find(sub[, start[, end]])   # 가장 작은 인덱스 반환 발견 못할시 -1\n",
    "str.rfind(sub[, start[, end]])  # 가장 큰 인덱스 반환   발견 못할시 -1\n",
    "str.index(sub[, start[, end]])  # find 함수와 같은기능이지만 발견 못할시 예외처리\n",
    "str.rindex(sub[, start[, end]]) # rfind 함수와 같은기능, 발견 못할지 예외처리\n",
    "\n",
    "str.startswith(prefix[, start [, end]]) # 문자열이 prefix로 시작하면 true\n",
    "str.endswith(suffix[, start [, end]])   # 문자열이 suffix로 끝나면 true"
   ]
  }
 ]
}