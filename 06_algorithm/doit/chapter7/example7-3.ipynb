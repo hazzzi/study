{
 "metadata": {
  "language_info": {
   "codemirror_mode": {
    "name": "ipython",
    "version": 3
   },
   "file_extension": ".py",
   "mimetype": "text/x-python",
   "name": "python",
   "nbconvert_exporter": "python",
   "pygments_lexer": "ipython3",
   "version": "3.8.5-final"
  },
  "orig_nbformat": 2,
  "kernelspec": {
   "name": "python3",
   "display_name": "Python 3",
   "language": "python"
  }
 },
 "nbformat": 4,
 "nbformat_minor": 2,
 "cells": [
  {
   "cell_type": "code",
   "execution_count": 4,
   "metadata": {},
   "outputs": [
    {
     "output_type": "stream",
     "name": "stdout",
     "text": [
      "3번째 문자가 일치합니다.\n"
     ]
    }
   ],
   "source": [
    "# 실습 7-3\n",
    "# 보이어 무어\n",
    "\n",
    "def bm_match(text: str, pattern: str) -> int:\n",
    "    skip = [None] * 256     \n",
    "    \n",
    "    # 건너뛰기표\n",
    "    for point in range(256):\n",
    "        skip[point] = len(pattern)\n",
    "    for point in range(len(pattern)):\n",
    "        skip[ord(pattern[point])] = len(pattern) - point - 1\n",
    "    \n",
    "    # 검색하기\n",
    "    while point < len(text):\n",
    "        pp = len(pattern) - 1\n",
    "        while text[point] == pattern[pp]:\n",
    "            if pp == 0:\n",
    "                return point\n",
    "            point -= 1\n",
    "            pp -= 1\n",
    "        point += skip[ord(text[point])] if skip[ord(text[point])] > len(pattern) - pp \\\n",
    "                 else len(pattern) - pp\n",
    "    return -1\n",
    "\n",
    "if __name__ == '__main__':\n",
    "    text = input('text: ')\n",
    "    pattern = input('pattern: ')\n",
    "\n",
    "    index = bm_match(text= text, pattern= pattern)\n",
    "\n",
    "    if index == -1:\n",
    "        print('no pattern')\n",
    "    else:\n",
    "        print(f'{(index + 1)}번째 문자가 일치합니다.')"
   ]
  },
  {
   "cell_type": "code",
   "execution_count": null,
   "metadata": {},
   "outputs": [],
   "source": []
  }
 ]
}