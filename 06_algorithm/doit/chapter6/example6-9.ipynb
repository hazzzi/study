{
 "metadata": {
  "language_info": {
   "codemirror_mode": {
    "name": "ipython",
    "version": 3
   },
   "file_extension": ".py",
   "mimetype": "text/x-python",
   "name": "python",
   "nbconvert_exporter": "python",
   "pygments_lexer": "ipython3",
   "version": "3.8.5-final"
  },
  "orig_nbformat": 2,
  "kernelspec": {
   "name": "python3",
   "display_name": "Python 3",
   "language": "python"
  }
 },
 "nbformat": 4,
 "nbformat_minor": 2,
 "cells": [
  {
   "cell_type": "code",
   "execution_count": 1,
   "metadata": {},
   "outputs": [
    {
     "output_type": "stream",
     "name": "stdout",
     "text": [
      "정렬 전: [22, 5, 44, 15, 37, 51, 44]\n정렬 후: [5, 15, 22, 37, 44, 44, 51]\n"
     ]
    }
   ],
   "source": [
    "# 실습 6-17\n",
    "# 도수 정렬\n",
    "# 데이터의 비교 교환 과정이 없어 매우 빠르다\n",
    "# 단 데이터의 최소, 최댓값을 알고있는 경우에만 적용할 수 있다\n",
    "\n",
    "from typing import MutableSequence\n",
    "\n",
    "def fsort(a: MutableSequence, max: int) -> None:\n",
    "    n = len(a)          # 정렬할 배열 크기\n",
    "    f = [0] * (max + 1) # 누적 도수 분포표 배열 1\n",
    "    b = [0] * n         # 작업용 배열 b\n",
    "\n",
    "    for i in range(n):              f[a[i]] += 1                    # 1단계\n",
    "    for i in range(1, max + 1):     f[i] += f[i - 1]                # 2단계\n",
    "    for i in range(n - 1, -1, -1):  f[a[i]] -= 1; b[f[a[i]]] = a[i] # 3단계\n",
    "    for i in range(n):              a[i] = b[i]                     # 4단계\n",
    "\n",
    "def counting_sort(a: MutableSequence) -> None:\n",
    "    fsort(a, max(a))\n",
    "\n",
    "if __name__ == '__main__':\n",
    "    num = int(input('원소 수'))\n",
    "    x = [None] * num\n",
    "\n",
    "    for i in range(num):\n",
    "        while True:   # 양수만 입력받도록 제한\n",
    "            x[i] = int(input(f'x[{i}] = '))\n",
    "            if x[i] >= 0: break\n",
    "\n",
    "    print(f'정렬 전: {x}')\n",
    "    counting_sort(x)\n",
    "    print(f'정렬 후: {x}')"
   ]
  },
  {
   "cell_type": "code",
   "execution_count": null,
   "metadata": {},
   "outputs": [],
   "source": []
  }
 ]
}