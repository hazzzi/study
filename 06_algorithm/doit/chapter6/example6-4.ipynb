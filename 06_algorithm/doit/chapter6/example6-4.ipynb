{
 "metadata": {
  "language_info": {
   "codemirror_mode": {
    "name": "ipython",
    "version": 3
   },
   "file_extension": ".py",
   "mimetype": "text/x-python",
   "name": "python",
   "nbconvert_exporter": "python",
   "pygments_lexer": "ipython3",
   "version": "3.8.5-final"
  },
  "orig_nbformat": 2,
  "kernelspec": {
   "name": "python3",
   "display_name": "Python 3",
   "language": "python"
  }
 },
 "nbformat": 4,
 "nbformat_minor": 2,
 "cells": [
  {
   "cell_type": "code",
   "execution_count": 2,
   "metadata": {},
   "outputs": [
    {
     "output_type": "stream",
     "name": "stdout",
     "text": [
      "정렬 전: [6, 4, 3, 7, 1, 9, 8]\n정렬 후: [1, 3, 4, 6, 7, 9, 8]\n"
     ]
    }
   ],
   "source": [
    "# 실습 6-7\n",
    "# 삽입 정렬\n",
    "\n",
    "from typing import MutableSequence\n",
    "\n",
    "def insertion_sort(a: MutableSequence) -> None:\n",
    "    n = len(a)\n",
    "    for i in range(n - 1):\n",
    "        j = i\n",
    "        tmp = a[i]\n",
    "        while j > 0 and a[j - 1] > tmp:\n",
    "            a[j] = a[j - 1]\n",
    "            j -= 1\n",
    "        a[j] = tmp\n",
    "\n",
    "if __name__ == '__main__':\n",
    "    num = int(input('원소 수 입력'))\n",
    "    x = [None] * num\n",
    "\n",
    "    for i in range(num):\n",
    "        x[i] = int(input(f'x[{i}]:'))\n",
    "    \n",
    "    print(f'정렬 전: {x}')\n",
    "    insertion_sort(x)\n",
    "    print(f'정렬 후: {x}')\n"
   ]
  },
  {
   "cell_type": "code",
   "execution_count": null,
   "metadata": {},
   "outputs": [],
   "source": []
  }
 ]
}