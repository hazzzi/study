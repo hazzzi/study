{
 "metadata": {
  "language_info": {
   "codemirror_mode": {
    "name": "ipython",
    "version": 3
   },
   "file_extension": ".py",
   "mimetype": "text/x-python",
   "name": "python",
   "nbconvert_exporter": "python",
   "pygments_lexer": "ipython3",
   "version": "3.8.5-final"
  },
  "orig_nbformat": 2,
  "kernelspec": {
   "name": "python3",
   "display_name": "Python 3",
   "language": "python"
  }
 },
 "nbformat": 4,
 "nbformat_minor": 2,
 "cells": [
  {
   "cell_type": "code",
   "execution_count": 1,
   "metadata": {},
   "outputs": [
    {
     "output_type": "stream",
     "name": "stdout",
     "text": [
      "pivot: 5\n< pivot: [1, 3, 2, 4, 5]\n= pivot: [5]\n> pivot: [5, 7, 6, 8, 9]\n"
     ]
    }
   ],
   "source": [
    "# 실습 6-10\n",
    "# 배열을 두 그룹으로 나누기\n",
    "\n",
    "from typing import MutableSequence\n",
    "\n",
    "def partition(a: MutableSequence) -> None:\n",
    "    n = len(a)\n",
    "    pl = 0          # 왼쪽 커서\n",
    "    pr = n - 1      # 오른쪽 커서\n",
    "    x = a[n // 2]   # 피벗(가운데 원소)\n",
    "\n",
    "    ## 배열 a를 피벗 x로 나눈다\n",
    "    while pl <= pr:\n",
    "        while a[pl] < x: pl += 1\n",
    "        while a[pr] > x: pr -= 1\n",
    "        if pl <= pr:\n",
    "            a[pl], a[pr] = a[pr], a[pl]\n",
    "            pl += 1\n",
    "            pr -= 1\n",
    "\n",
    "    print(f'pivot: {x}')\n",
    "\n",
    "    print(f'< pivot: {a[0: pl]}')\n",
    "    if pl > pr + 1: print(f'= pivot: {a[pr + 1: pl]}')\n",
    "    print(f'> pivot: {a[pr + 1: n]}')\n",
    "\n",
    "if __name__ == '__main__':\n",
    "    num = int(input('원소수'))\n",
    "    x = [None] * num\n",
    "\n",
    "    for i in range(num):\n",
    "        x[i] = int(input(f'x[{i}]:'))\n",
    "\n",
    "    partition(x)"
   ]
  },
  {
   "cell_type": "code",
   "execution_count": 3,
   "metadata": {},
   "outputs": [
    {
     "output_type": "stream",
     "name": "stdout",
     "text": [
      "정렬 전: [4, 8, 7, 5, 1]\na[0] ~ a[4]: 4 8 7 5 1\na[0] ~ a[2]: 4 1 5\na[1] ~ a[2]: 4 5\na[3] ~ a[4]: 7 8\n정렬 후: [1, 4, 5, 7, 8]\n"
     ]
    }
   ],
   "source": [
    "# 실습 6-11\n",
    "# 퀵 정렬\n",
    "\n",
    "from typing import MutableSequence\n",
    "\n",
    "def qsort(a: MutableSequence, left: int, right: int) -> None:\n",
    "    pl = left\n",
    "    pr = right\n",
    "    x = a[(left + right) // 2]\n",
    "\n",
    "    print(f'a[{left}] ~ a[{right}]:', *a[left : right + 1])\n",
    "    \n",
    "    while pl <= pr:\n",
    "        while a[pl] < x: pl += 1\n",
    "        while a[pr] > x: pr -= 1\n",
    "        if pl <= pr:\n",
    "            a[pl], a[pr] = a[pr], a[pl]\n",
    "            pl += 1\n",
    "            pr -= 1\n",
    "    \n",
    "    if left < pr: qsort(a, left, pr)\n",
    "    if pl < right: qsort(a, pl, right)\n",
    "\n",
    "def quick_sort(a: MutableSequence) -> None:\n",
    "    qsort(a, 0, len(a) - 1)\n",
    "\n",
    "if __name__ == '__main__':\n",
    "    num = int(input('원소수'))\n",
    "    x = [None] * num\n",
    "\n",
    "    for i in range(num):\n",
    "        x[i] = int(input(f'x[{i}]:'))\n",
    "\n",
    "    print(f'정렬 전: {x}')\n",
    "    quick_sort(x) \n",
    "    print(f'정렬 후: {x}')"
   ]
  },
  {
   "cell_type": "code",
   "execution_count": null,
   "metadata": {},
   "outputs": [],
   "source": []
  }
 ]
}