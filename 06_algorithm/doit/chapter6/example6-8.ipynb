{
 "metadata": {
  "language_info": {
   "codemirror_mode": {
    "name": "ipython",
    "version": 3
   },
   "file_extension": ".py",
   "mimetype": "text/x-python",
   "name": "python",
   "nbconvert_exporter": "python",
   "pygments_lexer": "ipython3",
   "version": "3.8.5-final"
  },
  "orig_nbformat": 2,
  "kernelspec": {
   "name": "python3",
   "display_name": "Python 3",
   "language": "python"
  }
 },
 "nbformat": 4,
 "nbformat_minor": 2,
 "cells": [
  {
   "cell_type": "code",
   "execution_count": 1,
   "metadata": {},
   "outputs": [
    {
     "output_type": "stream",
     "name": "stdout",
     "text": [
      "정렬 전: [6, 4, 3, 7, 1, 9, 8]\n정렬 후: [1, 3, 4, 6, 7, 8, 9]\n"
     ]
    }
   ],
   "source": [
    "# 실습 6-16\n",
    "# 힙 정렬 \n",
    "\n",
    "from typing import MutableSequence\n",
    "\n",
    "def heap_sort(a: MutableSequence) -> None:\n",
    "\n",
    "    # a[left] ~ a[right]를 힙으로 만듬\n",
    "    def down_heap(a: MutableSequence, left: int, right: int) -> None:\n",
    "        temp = a[left]  # 루트\n",
    "\n",
    "        parent = left\n",
    "        while parent < (right + 1) // 2:\n",
    "            cl = parent * 2 + 1     # 왼쪽 자식\n",
    "            cr = cl + 1             # 오른쪽 자식\n",
    "            child = cr if cr <= right and a[cr] > a[cl] else cl # 큰 값을 선택\n",
    "            if temp >= a[child]:\n",
    "                break\n",
    "            a[parent] = a[child]\n",
    "            parent = child\n",
    "        a[parent] = temp\n",
    "\n",
    "    n = len(a)\n",
    "\n",
    "    # a[i] ~ a[n-1]을 힙으로 만들기\n",
    "    for i in range((n-1) // 2, -1, -1):\n",
    "        down_heap(a, i, n - 1)\n",
    "\n",
    "    for i in range(n - 1, 0, -1):\n",
    "        a[0], a[i] = a[i], a[0] # 최댓값인 a[0]와 마지막 원소를 교환\n",
    "        down_heap(a, 0, i - 1)  # a[0] ~ a[i - 1]을 힙으로 만들기\n",
    "\n",
    "if __name__ == '__main__':\n",
    "    num = int(input('원소 수'))\n",
    "    x = [None] * num\n",
    "\n",
    "    for i in range(num):\n",
    "        x[i] = int(input(f'x[{i}] = '))\n",
    "\n",
    "    print(f'정렬 전: {x}')\n",
    "    heap_sort(x)\n",
    "    print(f'정렬 후: {x}')"
   ]
  },
  {
   "cell_type": "code",
   "execution_count": 3,
   "metadata": {},
   "outputs": [
    {
     "output_type": "stream",
     "name": "stdout",
     "text": [
      "정렬 전: [4, 7, 5, 5, 1]\n정렬 후: [1, 4, 5, 5, 7]\n"
     ]
    }
   ],
   "source": [
    "# 실습 6C-5\n",
    "# 힙 정렬 (heapq 이용)\n",
    "\n",
    "import heapq\n",
    "from typing import MutableSequence\n",
    "\n",
    "def heap_sort(a: MutableSequence) -> None:\n",
    "    heap = []\n",
    "    for i in a:\n",
    "        heapq.heappush(heap, i)\n",
    "    for i in range(len(a)):\n",
    "        a[i] = heapq.heappop(heap)\n",
    "\n",
    "if __name__ == '__main__':\n",
    "    num = int(input('원소 수'))\n",
    "    x = [None] * num\n",
    "\n",
    "    for i in range(num):\n",
    "        x[i] = int(input(f'x[{i}] = '))\n",
    "\n",
    "    print(f'정렬 전: {x}')\n",
    "    heap_sort(x)\n",
    "    print(f'정렬 후: {x}')"
   ]
  },
  {
   "cell_type": "code",
   "execution_count": null,
   "metadata": {},
   "outputs": [],
   "source": []
  }
 ]
}