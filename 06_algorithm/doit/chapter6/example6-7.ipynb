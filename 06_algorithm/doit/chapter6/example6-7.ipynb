{
 "metadata": {
  "language_info": {
   "codemirror_mode": {
    "name": "ipython",
    "version": 3
   },
   "file_extension": ".py",
   "mimetype": "text/x-python",
   "name": "python",
   "nbconvert_exporter": "python",
   "pygments_lexer": "ipython3",
   "version": "3.8.5-final"
  },
  "orig_nbformat": 2,
  "kernelspec": {
   "name": "python3",
   "display_name": "Python 3",
   "language": "python"
  }
 },
 "nbformat": 4,
 "nbformat_minor": 2,
 "cells": [
  {
   "cell_type": "code",
   "execution_count": 7,
   "metadata": {},
   "outputs": [
    {
     "output_type": "stream",
     "name": "stdout",
     "text": [
      "배열 a: [2, 4, 6, 8, 11, 12]\n배열 b: [1, 2, 3, 4, 9, 16, 21]\n배열 c: [1, 2, 2, 3, 4, 4, 6, 8, 9, 11, 12, 16, 21]\n"
     ]
    }
   ],
   "source": [
    "# 실습 6-14\n",
    "# 정렬을 마친 두 배열 병합\n",
    "\n",
    "from typing import Sequence, MutableSequence\n",
    "\n",
    "def merge_sorted_list(a: Sequence, b: Sequence, c: MutableSequence) -> None:\n",
    "    pa, pb, pc = 0, 0, 0                # 각 배열의 커서\n",
    "    na, nb, nc = len(a), len(b), len(c) # 각 배열의 크기\n",
    "\n",
    "    while pa < na and pb < nb:\n",
    "        if a[pa] < b[pb]:\n",
    "            c[pc] = a[pa]\n",
    "            pa += 1\n",
    "        else: \n",
    "            c[pc] = b[pb]\n",
    "            pb += 1\n",
    "        pc += 1\n",
    "\n",
    "    while pa < na:\n",
    "        c[pc] = a[pa]\n",
    "        pa += 1\n",
    "        pc += 1\n",
    "    \n",
    "    while pb < nb:\n",
    "        c[pc] = b[pb]\n",
    "        pb += 1\n",
    "        pc += 1\n",
    "\n",
    "if __name__ == '__main__':\n",
    "    a = [2,4,6,8,11,12]\n",
    "    b = [1,2,3,4,9,16,21]\n",
    "    c = [None] * (len(a)+len(b))\n",
    "\n",
    "    merge_sorted_list(a,b,c)\n",
    "\n",
    "    print(f'배열 a: {a}')\n",
    "    print(f'배열 b: {b}')\n",
    "    print(f'배열 c: {c}')"
   ]
  },
  {
   "cell_type": "code",
   "execution_count": 8,
   "metadata": {},
   "outputs": [
    {
     "output_type": "stream",
     "name": "stdout",
     "text": [
      "배열 a: [2, 4, 6, 8, 11, 12]\n배열 b: [1, 2, 3, 4, 9, 16, 21]\n배열 c: [1, 2, 2, 3, 4, 4, 6, 8, 9, 11, 12, 16, 21]\n"
     ]
    }
   ],
   "source": [
    "# 실습 6-14 보충\n",
    "# 두 배열 병합 (정렬이 아니어도 적용)\n",
    "# 파이썬 함수 사용\n",
    "\n",
    "import heapq\n",
    "\n",
    "a = [2,4,6,8,11,12]\n",
    "b = [1,2,3,4,9,16,21]\n",
    "c = list(heapq.merge(a,b))\n",
    "# c = list(sorted(a + b)) 속도가 빠르지는 않음\n",
    "\n",
    "print(f'배열 a: {a}')\n",
    "print(f'배열 b: {b}')\n",
    "print(f'배열 c: {c}')"
   ]
  },
  {
   "cell_type": "code",
   "execution_count": 11,
   "metadata": {},
   "outputs": [
    {
     "output_type": "stream",
     "name": "stdout",
     "text": [
      "정렬 전: [1, 3, 4, 2, 5]\n정렬 후: [1, 2, 3, 4, 5]\n"
     ]
    }
   ],
   "source": [
    "# 실습 6-15\n",
    "# 병합 정렬 구현\n",
    "\n",
    "from typing import MutableSequence\n",
    "\n",
    "def merge_sort(a: MutableSequence) -> None:\n",
    "    \n",
    "    def _merge_sort(a: MutableSequence, left: int, right: int) -> None:\n",
    "        if left < right:\n",
    "            center = (left + right) // 2\n",
    "\n",
    "            _merge_sort(a, left, center)\n",
    "            _merge_sort(a, center + 1, right)\n",
    "\n",
    "            p = j = 0\n",
    "            i = k = left\n",
    "            \n",
    "            while i <= center:\n",
    "                buff[p] = a[i]\n",
    "                p += 1\n",
    "                i += 1\n",
    "\n",
    "            while i <= right and j < p:\n",
    "                if buff[j] <= a[i]:\n",
    "                    a[k] = buff[j]\n",
    "                    j += 1\n",
    "                else:\n",
    "                    a[k] = a[i]\n",
    "                    i += 1\n",
    "                k += 1\n",
    "\n",
    "            while j < p:\n",
    "                a[k] = buff[j]\n",
    "                k += 1\n",
    "                j += 1\n",
    "                \n",
    "    n = len(a)\n",
    "    buff = [None] * n       # 작업용 배열\n",
    "    _merge_sort(a, 0, n-1)  # 배열 전체를 병합 정렬\n",
    "    del buff                # 작업용 배열 소멸\n",
    "\n",
    "if __name__ == '__main__':\n",
    "    num = int(input('원소 수'))\n",
    "    x = [None] * num\n",
    "\n",
    "    for i in range(num):\n",
    "        x[i] = int(input(f'x[{i}] = '))\n",
    "\n",
    "    print(f'정렬 전: {x}')\n",
    "    merge_sort(x)\n",
    "    print(f'정렬 후: {x}')"
   ]
  },
  {
   "cell_type": "code",
   "execution_count": null,
   "metadata": {},
   "outputs": [],
   "source": []
  }
 ]
}