{
 "metadata": {
  "language_info": {
   "codemirror_mode": {
    "name": "ipython",
    "version": 3
   },
   "file_extension": ".py",
   "mimetype": "text/x-python",
   "name": "python",
   "nbconvert_exporter": "python",
   "pygments_lexer": "ipython3",
   "version": "3.8.5-final"
  },
  "orig_nbformat": 2,
  "kernelspec": {
   "name": "python3",
   "display_name": "Python 3",
   "language": "python"
  }
 },
 "nbformat": 4,
 "nbformat_minor": 2,
 "cells": [
  {
   "cell_type": "code",
   "execution_count": 7,
   "metadata": {},
   "outputs": [
    {
     "output_type": "stream",
     "name": "stdout",
     "text": [
      "배열 a: [2, 4, 6, 8, 11, 12]\n배열 b: [1, 2, 3, 4, 9, 16, 21]\n배열 c: [1, 2, 2, 3, 4, 4, 6, 8, 9, 11, 12, 16, 21]\n"
     ]
    }
   ],
   "source": [
    "# 실습 6-14\n",
    "# 정렬을 마친 두 배열 병합\n",
    "\n",
    "from typing import Sequence, MutableSequence\n",
    "\n",
    "def merge_sorted_list(a: Sequence, b: Sequence, c: MutableSequence) -> None:\n",
    "    pa, pb, pc = 0, 0, 0                # 각 배열의 커서\n",
    "    na, nb, nc = len(a), len(b), len(c) # 각 배열의 크기\n",
    "\n",
    "    while pa < na and pb < nb:\n",
    "        if a[pa] < b[pb]:\n",
    "            c[pc] = a[pa]\n",
    "            pa += 1\n",
    "        else: \n",
    "            c[pc] = b[pb]\n",
    "            pb += 1\n",
    "        pc += 1\n",
    "\n",
    "    while pa < na:\n",
    "        c[pc] = a[pa]\n",
    "        pa += 1\n",
    "        pc += 1\n",
    "    \n",
    "    while pb < nb:\n",
    "        c[pc] = b[pb]\n",
    "        pb += 1\n",
    "        pc += 1\n",
    "\n",
    "if __name__ == '__main__':\n",
    "    a = [2,4,6,8,11,12]\n",
    "    b = [1,2,3,4,9,16,21]\n",
    "    c = [None] * (len(a)+len(b))\n",
    "\n",
    "    merge_sorted_list(a,b,c)\n",
    "\n",
    "    print(f'배열 a: {a}')\n",
    "    print(f'배열 b: {b}')\n",
    "    print(f'배열 c: {c}')"
   ]
  },
  {
   "cell_type": "code",
   "execution_count": 8,
   "metadata": {},
   "outputs": [
    {
     "output_type": "stream",
     "name": "stdout",
     "text": [
      "배열 a: [2, 4, 6, 8, 11, 12]\n배열 b: [1, 2, 3, 4, 9, 16, 21]\n배열 c: [1, 2, 2, 3, 4, 4, 6, 8, 9, 11, 12, 16, 21]\n"
     ]
    }
   ],
   "source": [
    "# 실습 6-14 보충\n",
    "# 두 배열 병합 (정렬이 아니어도 적용)\n",
    "# 파이썬 함수 사용\n",
    "\n",
    "import heapq\n",
    "\n",
    "a = [2,4,6,8,11,12]\n",
    "b = [1,2,3,4,9,16,21]\n",
    "c = list(heapq.merge(a,b))\n",
    "# c = list(sorted(a + b)) 속도가 빠르지는 않음\n",
    "\n",
    "print(f'배열 a: {a}')\n",
    "print(f'배열 b: {b}')\n",
    "print(f'배열 c: {c}')"
   ]
  },
  {
   "cell_type": "code",
   "execution_count": null,
   "metadata": {},
   "outputs": [],
   "source": []
  }
 ]
}