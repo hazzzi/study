{
 "metadata": {
  "language_info": {
   "codemirror_mode": {
    "name": "ipython",
    "version": 3
   },
   "file_extension": ".py",
   "mimetype": "text/x-python",
   "name": "python",
   "nbconvert_exporter": "python",
   "pygments_lexer": "ipython3",
   "version": "3.8.5-final"
  },
  "orig_nbformat": 2,
  "kernelspec": {
   "name": "python3",
   "display_name": "Python 3",
   "language": "python"
  }
 },
 "nbformat": 4,
 "nbformat_minor": 2,
 "cells": [
  {
   "cell_type": "code",
   "execution_count": 2,
   "metadata": {},
   "outputs": [
    {
     "output_type": "stream",
     "name": "stdout",
     "text": [
      "기존 배열: [4, 7, 1, 5, 3]\n버블 정렬: [1, 3, 4, 5, 7]\n"
     ]
    }
   ],
   "source": [
    "# 실습 6-1\n",
    "# 버블 정렬 알고리즘\n",
    "\n",
    "from typing import MutableSequence\n",
    "\n",
    "def bubble_sort(a: MutableSequence) -> None:\n",
    "    n = len(a)\n",
    "    for i in range(n - 1):\n",
    "        for j in range(n - 1, i, -1):\n",
    "            if a[j - 1] > a[j]:\n",
    "                a[j - 1], a[j] = a[j], a[j - 1]\n",
    "\n",
    "if __name__ == '__main__':\n",
    "    num = int(input('원소 수를 입력'))\n",
    "    x = [None] * num\n",
    "\n",
    "    for i in range(num):\n",
    "        x[i] = int(input(f'x[{i}]:'))\n",
    "    \n",
    "    print(f'기존 배열: {x}')\n",
    "    bubble_sort(x)\n",
    "    print(f'버블 정렬: {x}')\n"
   ]
  },
  {
   "cell_type": "code",
   "execution_count": 5,
   "metadata": {},
   "outputs": [
    {
     "output_type": "stream",
     "name": "stdout",
     "text": [
      "기존 배열: [6, 4, 3, 7, 1, 9, 8]\n패스: 1\n패스: 2\n패스: 3\n패스: 4\n버블 정렬: [1, 3, 4, 6, 7, 8, 9]\n"
     ]
    }
   ],
   "source": [
    "# 실습 6-3\n",
    "# 버블정렬 개선 1\n",
    "\n",
    "from typing import MutableSequence\n",
    "\n",
    "def bubble_sort(a: MutableSequence) -> None:\n",
    "    n = len(a)\n",
    "\n",
    "    for i in range(n - 1):\n",
    "        print(f'패스: {i + 1}')\n",
    "        exchng = 0  # 교환 횟수\n",
    "        for j in range(n - 1, i, -1):\n",
    "            if a[j - 1] > a[j]:\n",
    "                a[j - 1], a[j] = a[j], a[j - 1]\n",
    "                exchng += 1\n",
    "        if exchng == 0:\n",
    "            break\n",
    "\n",
    "if __name__ == '__main__':\n",
    "    num = int(input('원소 수를 입력'))\n",
    "    x = [None] * num\n",
    "\n",
    "    for i in range(num):\n",
    "        x[i] = int(input(f'x[{i}]:'))\n",
    "    \n",
    "    print(f'기존 배열: {x}')\n",
    "    bubble_sort(x)\n",
    "    print(f'버블 정렬: {x}')"
   ]
  },
  {
   "cell_type": "code",
   "execution_count": null,
   "metadata": {},
   "outputs": [],
   "source": []
  }
 ]
}