{
 "metadata": {
  "language_info": {
   "codemirror_mode": {
    "name": "ipython",
    "version": 3
   },
   "file_extension": ".py",
   "mimetype": "text/x-python",
   "name": "python",
   "nbconvert_exporter": "python",
   "pygments_lexer": "ipython3",
   "version": "3.8.5-final"
  },
  "orig_nbformat": 2,
  "kernelspec": {
   "name": "python3",
   "display_name": "Python 3",
   "language": "python"
  }
 },
 "nbformat": 4,
 "nbformat_minor": 2,
 "cells": [
  {
   "cell_type": "code",
   "execution_count": 1,
   "metadata": {},
   "outputs": [
    {
     "output_type": "stream",
     "name": "stdout",
     "text": [
      "1\n2\n3\n1\n4\n1\n2\n"
     ]
    }
   ],
   "source": [
    "# 실습 5-3\n",
    "# 순수한 재귀 함수 (genuinely) 구현\n",
    "# 재귀 호출을 여러 번 실행하는 함수\n",
    "\n",
    "def recur(n: int) -> int:\n",
    "    if n > 0:\n",
    "        recur(n - 1)\n",
    "        print(n)\n",
    "        recur(n - 2)\n",
    "\n",
    "x = int(input('정수값 입력'))\n",
    "\n",
    "recur(x)"
   ]
  },
  {
   "cell_type": "code",
   "execution_count": 2,
   "metadata": {},
   "outputs": [
    {
     "output_type": "stream",
     "name": "stdout",
     "text": [
      "1\n2\n3\n1\n4\n1\n2\n"
     ]
    }
   ],
   "source": [
    "# 실습 5-4\n",
    "# 비재귀적으로 재귀함수 구현(꼬리 재귀 제거)\n",
    "\n",
    "def recur(n: int) -> int:\n",
    "    while n > 0:\n",
    "        recur(n - 1)\n",
    "        print(n)\n",
    "        n = n - 2\n",
    "\n",
    "x = int(input('정수값 입력'))\n",
    "\n",
    "recur(x)"
   ]
  },
  {
   "cell_type": "code",
   "execution_count": null,
   "metadata": {},
   "outputs": [],
   "source": []
  }
 ]
}