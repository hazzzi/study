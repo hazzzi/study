{
 "metadata": {
  "language_info": {
   "codemirror_mode": {
    "name": "ipython",
    "version": 3
   },
   "file_extension": ".py",
   "mimetype": "text/x-python",
   "name": "python",
   "nbconvert_exporter": "python",
   "pygments_lexer": "ipython3",
   "version": "3.8.5-final"
  },
  "orig_nbformat": 2,
  "kernelspec": {
   "name": "python3",
   "display_name": "Python 3",
   "language": "python"
  }
 },
 "nbformat": 4,
 "nbformat_minor": 2,
 "cells": [
  {
   "cell_type": "code",
   "execution_count": 1,
   "metadata": {},
   "outputs": [
    {
     "output_type": "stream",
     "name": "stdout",
     "text": [
      "3! = 6\n"
     ]
    }
   ],
   "source": [
    "# 실습 5-1\n",
    "# 양의 정수 n의 팩토리얼 구하기\n",
    "\n",
    "def factorial(n: int) -> int:\n",
    "    if n > 0:\n",
    "        return n * factorial(n - 1)\n",
    "    else:\n",
    "        return 1\n",
    "\n",
    "if __name__ == '__main__':\n",
    "    n = int(input('출력할 팩토리얼값'))\n",
    "    print(f'{n}! = {factorial(n)}')"
   ]
  },
  {
   "cell_type": "code",
   "execution_count": 5,
   "metadata": {},
   "outputs": [
    {
     "output_type": "stream",
     "name": "stdout",
     "text": [
      "5! = 120\n"
     ]
    }
   ],
   "source": [
    "# 보충 5-1\n",
    "from math import factorial\n",
    "\n",
    "n = int(input('출력할 팩토리얼값'))\n",
    "print(f'{n}! = {factorial(n)}')"
   ]
  },
  {
   "cell_type": "code",
   "execution_count": 11,
   "metadata": {},
   "outputs": [
    {
     "output_type": "stream",
     "name": "stdout",
     "text": [
      "gcd(0, 0) = 0\n"
     ]
    }
   ],
   "source": [
    "# 실습 5-2\n",
    "# 유클리드 호제법으로 최대공약수 구하기\n",
    "\n",
    "def gcd(x: int, y: int) -> int:\n",
    "    \"\"\" x,y 의 최대 공약수 \"\"\"\n",
    "    if y == 0:\n",
    "        return x\n",
    "    else:\n",
    "        return gcd(y, x % y)\n",
    "\n",
    "if __name__ == '__main__':\n",
    "\n",
    "    x = int(input('첫번째 정수값'))\n",
    "    y = int(input('두번째 정수값'))\n",
    "    \n",
    "    print(f'gcd({x}, {y}) = {gcd(x, y)}')"
   ]
  },
  {
   "cell_type": "code",
   "execution_count": 10,
   "metadata": {},
   "outputs": [
    {
     "output_type": "stream",
     "name": "stdout",
     "text": [
      "gcd(0, 0) = 0\n"
     ]
    }
   ],
   "source": [
    "# 보충 5-2\n",
    "\n",
    "from math import gcd\n",
    "\n",
    "x = int(input('첫번째 정수값'))\n",
    "y = int(input('두번째 정수값'))\n",
    "\n",
    "print(f'gcd({x}, {y}) = {gcd(x, y)}')"
   ]
  },
  {
   "cell_type": "code",
   "execution_count": null,
   "metadata": {},
   "outputs": [],
   "source": []
  }
 ]
}